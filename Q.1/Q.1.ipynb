{
 "cells": [
  {
   "cell_type": "code",
   "execution_count": 1,
   "id": "b4f2b80f",
   "metadata": {},
   "outputs": [],
   "source": [
    "import tweepy\n",
    "import configparser\n",
    "import geocoder\n",
    "import os\n",
    "import json\n",
    "import sys\n",
    "import pandas as pd\n",
    "import numpy as np\n",
    "import matplotlib.pyplot as plt\n",
    "import seaborn as sns\n",
    "%matplotlib inline"
   ]
  },
  {
   "cell_type": "code",
   "execution_count": 2,
   "id": "8e99d417",
   "metadata": {},
   "outputs": [],
   "source": [
    "#set-up and authentication\n",
    "config = configparser.ConfigParser()\n",
    "config.read('config.ini')\n",
    "\n",
    "api_key = config['twitter']['api_key']\n",
    "api_key_secret = config['twitter']['api_key_secret']\n",
    "\n",
    "access_token = config['twitter']['access_token']\n",
    "access_token_secret = config['twitter']['access_token_secret']\n",
    "\n",
    "# authentication\n",
    "auth = tweepy.OAuthHandler(api_key, api_key_secret)\n",
    "auth.set_access_token(access_token, access_token_secret)\n",
    "\n",
    "api = tweepy.API(auth)"
   ]
  },
  {
   "cell_type": "code",
   "execution_count": 3,
   "id": "46a74f62",
   "metadata": {},
   "outputs": [],
   "source": [
    "available_loc = api.available_trends()\n",
    "\n",
    "with open(\"available_locs_for_trend.json\",\"w\") as wp:\n",
    "    wp.write(json.dumps(available_loc, indent=1))\n",
    "loc = 'India'\n",
    "g = geocoder.osm(loc)\n",
    "\n",
    "closest_loc = api.closest_trends(g.lat, g.lng)\n",
    "trends = api.get_place_trends(closest_loc[0]['woeid'])\n",
    "with open(\"twitter_{}_trend.json\".format(loc),\"w\") as wp:\n",
    "    wp.write(json.dumps(trends, indent=1))"
   ]
  },
  {
   "cell_type": "code",
   "execution_count": 4,
   "id": "98c9cfce",
   "metadata": {},
   "outputs": [],
   "source": [
    "with open('twitter_India_trend.json','r') as f:\n",
    "    data=json.load(f)"
   ]
  },
  {
   "cell_type": "code",
   "execution_count": 5,
   "id": "7d57380f",
   "metadata": {},
   "outputs": [],
   "source": [
    "df=pd.DataFrame().from_records(data[0]['trends'])"
   ]
  },
  {
   "cell_type": "code",
   "execution_count": 6,
   "id": "9ebd772f",
   "metadata": {},
   "outputs": [],
   "source": [
    "df.drop(columns=['url','promoted_content','query'],axis=1,inplace=True)\n",
    "df.dropna(axis=0,inplace=True)"
   ]
  },
  {
   "cell_type": "code",
   "execution_count": 8,
   "id": "f54f0b80",
   "metadata": {},
   "outputs": [],
   "source": [
    "df.set_index('name',inplace=True)"
   ]
  },
  {
   "cell_type": "code",
   "execution_count": 12,
   "id": "bdb68ae7",
   "metadata": {},
   "outputs": [
    {
     "data": {
      "text/html": [
       "<div>\n",
       "<style scoped>\n",
       "    .dataframe tbody tr th:only-of-type {\n",
       "        vertical-align: middle;\n",
       "    }\n",
       "\n",
       "    .dataframe tbody tr th {\n",
       "        vertical-align: top;\n",
       "    }\n",
       "\n",
       "    .dataframe thead th {\n",
       "        text-align: right;\n",
       "    }\n",
       "</style>\n",
       "<table border=\"1\" class=\"dataframe\">\n",
       "  <thead>\n",
       "    <tr style=\"text-align: right;\">\n",
       "      <th></th>\n",
       "      <th>tweet_volume</th>\n",
       "    </tr>\n",
       "    <tr>\n",
       "      <th>name</th>\n",
       "      <th></th>\n",
       "    </tr>\n",
       "  </thead>\n",
       "  <tbody>\n",
       "    <tr>\n",
       "      <th>Sushant Born To Rule Hearts</th>\n",
       "      <td>32124.0</td>\n",
       "    </tr>\n",
       "    <tr>\n",
       "      <th>#TheGrayMan</th>\n",
       "      <td>55778.0</td>\n",
       "    </tr>\n",
       "    <tr>\n",
       "      <th>#JaganShouldApologizeJrNTR</th>\n",
       "      <td>16103.0</td>\n",
       "    </tr>\n",
       "    <tr>\n",
       "      <th>LAAL SINGH TRAILER WEEK</th>\n",
       "      <td>12410.0</td>\n",
       "    </tr>\n",
       "    <tr>\n",
       "      <th>2seok</th>\n",
       "      <td>16589.0</td>\n",
       "    </tr>\n",
       "  </tbody>\n",
       "</table>\n",
       "</div>"
      ],
      "text/plain": [
       "                             tweet_volume\n",
       "name                                     \n",
       "Sushant Born To Rule Hearts       32124.0\n",
       "#TheGrayMan                       55778.0\n",
       "#JaganShouldApologizeJrNTR        16103.0\n",
       "LAAL SINGH TRAILER WEEK           12410.0\n",
       "2seok                             16589.0"
      ]
     },
     "execution_count": 12,
     "metadata": {},
     "output_type": "execute_result"
    }
   ],
   "source": [
    "df.head()"
   ]
  },
  {
   "cell_type": "code",
   "execution_count": 13,
   "id": "87d72820",
   "metadata": {},
   "outputs": [
    {
     "data": {
      "text/plain": [
       "<AxesSubplot:ylabel='name'>"
      ]
     },
     "execution_count": 13,
     "metadata": {},
     "output_type": "execute_result"
    },
    {
     "data": {
      "image/png": "[encoded data removed]",
      "text/plain": [
       "<Figure size 432x288 with 1 Axes>"
      ]
     },
     "metadata": {
      "needs_background": "light"
     },
     "output_type": "display_data"
    }
   ],
   "source": [
    "df.sort_values(by='tweet_volume',ascending=False).head(10).plot(kind='barh')"
   ]
  },
  {
   "cell_type": "code",
   "execution_count": null,
   "id": "ad4b8d42",
   "metadata": {},
   "outputs": [],
   "source": []
  }
 ],
 "metadata": {
  "kernelspec": {
   "display_name": "Python 3 (ipykernel)",
   "language": "python",
   "name": "python3"
  },
  "language_info": {
   "codemirror_mode": {
    "name": "ipython",
    "version": 3
   },
   "file_extension": ".py",
   "mimetype": "text/x-python",
   "name": "python",
   "nbconvert_exporter": "python",
   "pygments_lexer": "ipython3",
   "version": "3.9.2"
  }
 },
 "nbformat": 4,
 "nbformat_minor": 5
}
