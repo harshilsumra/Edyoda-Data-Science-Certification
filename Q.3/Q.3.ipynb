{
 "cells": [
  {
   "cell_type": "code",
   "execution_count": 1,
   "id": "5da6226b",
   "metadata": {},
   "outputs": [],
   "source": [
    "import numpy as np\n",
    "import pandas as pd\n",
    "import matplotlib.pyplot as plt\n",
    "import seaborn as sns\n",
    "from sklearn.model_selection import train_test_split\n",
    "from sklearn.linear_model import LinearRegression,Lasso,Ridge,ElasticNet\n",
    "from sklearn.decomposition import PCA\n",
    "from sklearn.metrics import mean_absolute_error, mean_squared_error,r2_score\n",
    "from sklearn.ensemble import RandomForestRegressor,GradientBoostingRegressor,AdaBoostRegressor\n",
    "from sklearn.feature_selection import RFE\n",
    "from sklearn.preprocessing import StandardScaler,OneHotEncoder,OrdinalEncoder,MinMaxScaler\n",
    "from sklearn.pipeline import make_pipeline\n",
    "from sklearn.tree import DecisionTreeRegressor\n",
    "from sklearn.svm import SVR\n",
    "from sklearn.model_selection import GridSearchCV, cross_val_score,KFold\n",
    "from sklearn.neighbors import KNeighborsRegressor\n",
    "%matplotlib inline"
   ]
  },
  {
   "cell_type": "code",
   "execution_count": 2,
   "id": "63789c22",
   "metadata": {},
   "outputs": [
    {
     "data": {
      "text/html": [
       "<div>\n",
       "<style scoped>\n",
       "    .dataframe tbody tr th:only-of-type {\n",
       "        vertical-align: middle;\n",
       "    }\n",
       "\n",
       "    .dataframe tbody tr th {\n",
       "        vertical-align: top;\n",
       "    }\n",
       "\n",
       "    .dataframe thead th {\n",
       "        text-align: right;\n",
       "    }\n",
       "</style>\n",
       "<table border=\"1\" class=\"dataframe\">\n",
       "  <thead>\n",
       "    <tr style=\"text-align: right;\">\n",
       "      <th></th>\n",
       "      <th>Open Date</th>\n",
       "      <th>City</th>\n",
       "      <th>City Group</th>\n",
       "      <th>Type</th>\n",
       "      <th>P1</th>\n",
       "      <th>P2</th>\n",
       "      <th>P3</th>\n",
       "      <th>P4</th>\n",
       "      <th>P5</th>\n",
       "      <th>P6</th>\n",
       "      <th>...</th>\n",
       "      <th>P29</th>\n",
       "      <th>P30</th>\n",
       "      <th>P31</th>\n",
       "      <th>P32</th>\n",
       "      <th>P33</th>\n",
       "      <th>P34</th>\n",
       "      <th>P35</th>\n",
       "      <th>P36</th>\n",
       "      <th>P37</th>\n",
       "      <th>revenue</th>\n",
       "    </tr>\n",
       "    <tr>\n",
       "      <th>Id</th>\n",
       "      <th></th>\n",
       "      <th></th>\n",
       "      <th></th>\n",
       "      <th></th>\n",
       "      <th></th>\n",
       "      <th></th>\n",
       "      <th></th>\n",
       "      <th></th>\n",
       "      <th></th>\n",
       "      <th></th>\n",
       "      <th></th>\n",
       "      <th></th>\n",
       "      <th></th>\n",
       "      <th></th>\n",
       "      <th></th>\n",
       "      <th></th>\n",
       "      <th></th>\n",
       "      <th></th>\n",
       "      <th></th>\n",
       "      <th></th>\n",
       "      <th></th>\n",
       "    </tr>\n",
       "  </thead>\n",
       "  <tbody>\n",
       "    <tr>\n",
       "      <th>0</th>\n",
       "      <td>7/17/1999</td>\n",
       "      <td>İstanbul</td>\n",
       "      <td>Big Cities</td>\n",
       "      <td>IL</td>\n",
       "      <td>4</td>\n",
       "      <td>5.0</td>\n",
       "      <td>4.0</td>\n",
       "      <td>4.0</td>\n",
       "      <td>2</td>\n",
       "      <td>2.0</td>\n",
       "      <td>...</td>\n",
       "      <td>3.0</td>\n",
       "      <td>5</td>\n",
       "      <td>3</td>\n",
       "      <td>4</td>\n",
       "      <td>5</td>\n",
       "      <td>5</td>\n",
       "      <td>4</td>\n",
       "      <td>3</td>\n",
       "      <td>4</td>\n",
       "      <td>5653753</td>\n",
       "    </tr>\n",
       "    <tr>\n",
       "      <th>1</th>\n",
       "      <td>2/14/2008</td>\n",
       "      <td>Ankara</td>\n",
       "      <td>Big Cities</td>\n",
       "      <td>FC</td>\n",
       "      <td>4</td>\n",
       "      <td>5.0</td>\n",
       "      <td>4.0</td>\n",
       "      <td>4.0</td>\n",
       "      <td>1</td>\n",
       "      <td>2.0</td>\n",
       "      <td>...</td>\n",
       "      <td>3.0</td>\n",
       "      <td>0</td>\n",
       "      <td>0</td>\n",
       "      <td>0</td>\n",
       "      <td>0</td>\n",
       "      <td>0</td>\n",
       "      <td>0</td>\n",
       "      <td>0</td>\n",
       "      <td>0</td>\n",
       "      <td>6923131</td>\n",
       "    </tr>\n",
       "    <tr>\n",
       "      <th>2</th>\n",
       "      <td>3/9/2013</td>\n",
       "      <td>Diyarbakır</td>\n",
       "      <td>Other</td>\n",
       "      <td>IL</td>\n",
       "      <td>2</td>\n",
       "      <td>4.0</td>\n",
       "      <td>2.0</td>\n",
       "      <td>5.0</td>\n",
       "      <td>2</td>\n",
       "      <td>3.0</td>\n",
       "      <td>...</td>\n",
       "      <td>3.0</td>\n",
       "      <td>0</td>\n",
       "      <td>0</td>\n",
       "      <td>0</td>\n",
       "      <td>0</td>\n",
       "      <td>0</td>\n",
       "      <td>0</td>\n",
       "      <td>0</td>\n",
       "      <td>0</td>\n",
       "      <td>2055379</td>\n",
       "    </tr>\n",
       "    <tr>\n",
       "      <th>3</th>\n",
       "      <td>2/2/2012</td>\n",
       "      <td>Tokat</td>\n",
       "      <td>Other</td>\n",
       "      <td>IL</td>\n",
       "      <td>6</td>\n",
       "      <td>4.5</td>\n",
       "      <td>6.0</td>\n",
       "      <td>6.0</td>\n",
       "      <td>4</td>\n",
       "      <td>4.0</td>\n",
       "      <td>...</td>\n",
       "      <td>7.5</td>\n",
       "      <td>25</td>\n",
       "      <td>12</td>\n",
       "      <td>10</td>\n",
       "      <td>6</td>\n",
       "      <td>18</td>\n",
       "      <td>12</td>\n",
       "      <td>12</td>\n",
       "      <td>6</td>\n",
       "      <td>2675511</td>\n",
       "    </tr>\n",
       "    <tr>\n",
       "      <th>4</th>\n",
       "      <td>5/9/2009</td>\n",
       "      <td>Gaziantep</td>\n",
       "      <td>Other</td>\n",
       "      <td>IL</td>\n",
       "      <td>3</td>\n",
       "      <td>4.0</td>\n",
       "      <td>3.0</td>\n",
       "      <td>4.0</td>\n",
       "      <td>2</td>\n",
       "      <td>2.0</td>\n",
       "      <td>...</td>\n",
       "      <td>3.0</td>\n",
       "      <td>5</td>\n",
       "      <td>1</td>\n",
       "      <td>3</td>\n",
       "      <td>2</td>\n",
       "      <td>3</td>\n",
       "      <td>4</td>\n",
       "      <td>3</td>\n",
       "      <td>3</td>\n",
       "      <td>4316715</td>\n",
       "    </tr>\n",
       "  </tbody>\n",
       "</table>\n",
       "<p>5 rows × 42 columns</p>\n",
       "</div>"
      ],
      "text/plain": [
       "    Open Date        City  City Group Type  P1   P2   P3   P4  P5   P6  ...  \\\n",
       "Id                                                                      ...   \n",
       "0   7/17/1999    İstanbul  Big Cities   IL   4  5.0  4.0  4.0   2  2.0  ...   \n",
       "1   2/14/2008      Ankara  Big Cities   FC   4  5.0  4.0  4.0   1  2.0  ...   \n",
       "2    3/9/2013  Diyarbakır       Other   IL   2  4.0  2.0  5.0   2  3.0  ...   \n",
       "3    2/2/2012       Tokat       Other   IL   6  4.5  6.0  6.0   4  4.0  ...   \n",
       "4    5/9/2009   Gaziantep       Other   IL   3  4.0  3.0  4.0   2  2.0  ...   \n",
       "\n",
       "    P29  P30  P31  P32  P33  P34  P35  P36  P37  revenue  \n",
       "Id                                                        \n",
       "0   3.0    5    3    4    5    5    4    3    4  5653753  \n",
       "1   3.0    0    0    0    0    0    0    0    0  6923131  \n",
       "2   3.0    0    0    0    0    0    0    0    0  2055379  \n",
       "3   7.5   25   12   10    6   18   12   12    6  2675511  \n",
       "4   3.0    5    1    3    2    3    4    3    3  4316715  \n",
       "\n",
       "[5 rows x 42 columns]"
      ]
     },
     "execution_count": 2,
     "metadata": {},
     "output_type": "execute_result"
    }
   ],
   "source": [
    "df=pd.read_csv('Shopping_Revenue.csv')\n",
    "df.set_index('Id',inplace=True)\n",
    "df.head()"
   ]
  },
  {
   "cell_type": "code",
   "execution_count": 3,
   "id": "dc2d4abb",
   "metadata": {},
   "outputs": [
    {
     "name": "stdout",
     "output_type": "stream",
     "text": [
      "<class 'pandas.core.frame.DataFrame'>\n",
      "Int64Index: 137 entries, 0 to 136\n",
      "Data columns (total 42 columns):\n",
      " #   Column      Non-Null Count  Dtype  \n",
      "---  ------      --------------  -----  \n",
      " 0   Open Date   137 non-null    object \n",
      " 1   City        137 non-null    object \n",
      " 2   City Group  137 non-null    object \n",
      " 3   Type        137 non-null    object \n",
      " 4   P1          137 non-null    int64  \n",
      " 5   P2          137 non-null    float64\n",
      " 6   P3          137 non-null    float64\n",
      " 7   P4          137 non-null    float64\n",
      " 8   P5          137 non-null    int64  \n",
      " 9   P6          133 non-null    float64\n",
      " 10  P7          133 non-null    float64\n",
      " 11  P8          137 non-null    int64  \n",
      " 12  P9          137 non-null    int64  \n",
      " 13  P10         137 non-null    int64  \n",
      " 14  P11         137 non-null    int64  \n",
      " 15  P12         137 non-null    int64  \n",
      " 16  P13         137 non-null    float64\n",
      " 17  P14         137 non-null    int64  \n",
      " 18  P15         137 non-null    int64  \n",
      " 19  P16         137 non-null    int64  \n",
      " 20  P17         137 non-null    int64  \n",
      " 21  P18         137 non-null    int64  \n",
      " 22  P19         137 non-null    int64  \n",
      " 23  P20         137 non-null    int64  \n",
      " 24  P21         137 non-null    int64  \n",
      " 25  P22         137 non-null    int64  \n",
      " 26  P23         137 non-null    int64  \n",
      " 27  P24         137 non-null    int64  \n",
      " 28  P25         137 non-null    int64  \n",
      " 29  P26         137 non-null    float64\n",
      " 30  P27         137 non-null    float64\n",
      " 31  P28         137 non-null    float64\n",
      " 32  P29         137 non-null    float64\n",
      " 33  P30         137 non-null    int64  \n",
      " 34  P31         137 non-null    int64  \n",
      " 35  P32         137 non-null    int64  \n",
      " 36  P33         137 non-null    int64  \n",
      " 37  P34         137 non-null    int64  \n",
      " 38  P35         137 non-null    int64  \n",
      " 39  P36         137 non-null    int64  \n",
      " 40  P37         137 non-null    int64  \n",
      " 41  revenue     137 non-null    int64  \n",
      "dtypes: float64(10), int64(28), object(4)\n",
      "memory usage: 46.0+ KB\n"
     ]
    }
   ],
   "source": [
    "df.info()"
   ]
  },
  {
   "cell_type": "code",
   "execution_count": 4,
   "id": "ce7054dd",
   "metadata": {},
   "outputs": [
    {
     "name": "stdout",
     "output_type": "stream",
     "text": [
      "<class 'pandas.core.frame.DataFrame'>\n",
      "Int64Index: 137 entries, 0 to 136\n",
      "Data columns (total 42 columns):\n",
      " #   Column        Non-Null Count  Dtype  \n",
      "---  ------        --------------  -----  \n",
      " 0   City          137 non-null    object \n",
      " 1   City Group    137 non-null    object \n",
      " 2   Type          137 non-null    object \n",
      " 3   P1            137 non-null    int64  \n",
      " 4   P2            137 non-null    float64\n",
      " 5   P3            137 non-null    float64\n",
      " 6   P4            137 non-null    float64\n",
      " 7   P5            137 non-null    int64  \n",
      " 8   P6            133 non-null    float64\n",
      " 9   P7            133 non-null    float64\n",
      " 10  P8            137 non-null    int64  \n",
      " 11  P9            137 non-null    int64  \n",
      " 12  P10           137 non-null    int64  \n",
      " 13  P11           137 non-null    int64  \n",
      " 14  P12           137 non-null    int64  \n",
      " 15  P13           137 non-null    float64\n",
      " 16  P14           137 non-null    int64  \n",
      " 17  P15           137 non-null    int64  \n",
      " 18  P16           137 non-null    int64  \n",
      " 19  P17           137 non-null    int64  \n",
      " 20  P18           137 non-null    int64  \n",
      " 21  P19           137 non-null    int64  \n",
      " 22  P20           137 non-null    int64  \n",
      " 23  P21           137 non-null    int64  \n",
      " 24  P22           137 non-null    int64  \n",
      " 25  P23           137 non-null    int64  \n",
      " 26  P24           137 non-null    int64  \n",
      " 27  P25           137 non-null    int64  \n",
      " 28  P26           137 non-null    float64\n",
      " 29  P27           137 non-null    float64\n",
      " 30  P28           137 non-null    float64\n",
      " 31  P29           137 non-null    float64\n",
      " 32  P30           137 non-null    int64  \n",
      " 33  P31           137 non-null    int64  \n",
      " 34  P32           137 non-null    int64  \n",
      " 35  P33           137 non-null    int64  \n",
      " 36  P34           137 non-null    int64  \n",
      " 37  P35           137 non-null    int64  \n",
      " 38  P36           137 non-null    int64  \n",
      " 39  P37           137 non-null    int64  \n",
      " 40  revenue       137 non-null    int64  \n",
      " 41  Age in years  137 non-null    int64  \n",
      "dtypes: float64(10), int64(29), object(3)\n",
      "memory usage: 46.0+ KB\n"
     ]
    }
   ],
   "source": [
    "df['Age in years']=2022 - df['Open Date'].str.split('/',expand=True)[2].apply(int)\n",
    "df.drop('Open Date',axis=1,inplace=True)\n",
    "df.info()"
   ]
  },
  {
   "cell_type": "code",
   "execution_count": 5,
   "id": "f5372d6a",
   "metadata": {},
   "outputs": [],
   "source": [
    "df.isna().mean()\n",
    "#Since the size of our data is already quite less. So, instead of removing rows with missing values we remove the two columns \n",
    "#in question\n",
    "df.drop(['P6','P7'],axis=1,inplace=True)"
   ]
  },
  {
   "cell_type": "code",
   "execution_count": 6,
   "id": "d3dd5f48",
   "metadata": {},
   "outputs": [
    {
     "data": {
      "text/html": [
       "<div>\n",
       "<style scoped>\n",
       "    .dataframe tbody tr th:only-of-type {\n",
       "        vertical-align: middle;\n",
       "    }\n",
       "\n",
       "    .dataframe tbody tr th {\n",
       "        vertical-align: top;\n",
       "    }\n",
       "\n",
       "    .dataframe thead th {\n",
       "        text-align: right;\n",
       "    }\n",
       "</style>\n",
       "<table border=\"1\" class=\"dataframe\">\n",
       "  <thead>\n",
       "    <tr style=\"text-align: right;\">\n",
       "      <th></th>\n",
       "      <th>P1</th>\n",
       "      <th>P2</th>\n",
       "      <th>P3</th>\n",
       "      <th>P4</th>\n",
       "      <th>P5</th>\n",
       "      <th>P8</th>\n",
       "      <th>P9</th>\n",
       "      <th>P10</th>\n",
       "      <th>P11</th>\n",
       "      <th>P12</th>\n",
       "      <th>...</th>\n",
       "      <th>P30</th>\n",
       "      <th>P31</th>\n",
       "      <th>P32</th>\n",
       "      <th>P33</th>\n",
       "      <th>P34</th>\n",
       "      <th>P35</th>\n",
       "      <th>P36</th>\n",
       "      <th>P37</th>\n",
       "      <th>revenue</th>\n",
       "      <th>Age in years</th>\n",
       "    </tr>\n",
       "  </thead>\n",
       "  <tbody>\n",
       "    <tr>\n",
       "      <th>count</th>\n",
       "      <td>137.000000</td>\n",
       "      <td>137.000000</td>\n",
       "      <td>137.000000</td>\n",
       "      <td>137.000000</td>\n",
       "      <td>137.000000</td>\n",
       "      <td>137.000000</td>\n",
       "      <td>137.000000</td>\n",
       "      <td>137.000000</td>\n",
       "      <td>137.000000</td>\n",
       "      <td>137.000000</td>\n",
       "      <td>...</td>\n",
       "      <td>137.000000</td>\n",
       "      <td>137.000000</td>\n",
       "      <td>137.000000</td>\n",
       "      <td>137.000000</td>\n",
       "      <td>137.000000</td>\n",
       "      <td>137.000000</td>\n",
       "      <td>137.000000</td>\n",
       "      <td>137.000000</td>\n",
       "      <td>1.370000e+02</td>\n",
       "      <td>137.000000</td>\n",
       "    </tr>\n",
       "    <tr>\n",
       "      <th>mean</th>\n",
       "      <td>4.014599</td>\n",
       "      <td>4.408759</td>\n",
       "      <td>4.317518</td>\n",
       "      <td>4.372263</td>\n",
       "      <td>2.007299</td>\n",
       "      <td>5.153285</td>\n",
       "      <td>5.445255</td>\n",
       "      <td>5.489051</td>\n",
       "      <td>3.262774</td>\n",
       "      <td>5.299270</td>\n",
       "      <td>...</td>\n",
       "      <td>2.729927</td>\n",
       "      <td>1.941606</td>\n",
       "      <td>2.525547</td>\n",
       "      <td>1.138686</td>\n",
       "      <td>2.489051</td>\n",
       "      <td>2.029197</td>\n",
       "      <td>2.211679</td>\n",
       "      <td>1.116788</td>\n",
       "      <td>4.453533e+06</td>\n",
       "      <td>13.321168</td>\n",
       "    </tr>\n",
       "    <tr>\n",
       "      <th>std</th>\n",
       "      <td>2.910391</td>\n",
       "      <td>1.514900</td>\n",
       "      <td>1.032337</td>\n",
       "      <td>1.016462</td>\n",
       "      <td>1.209620</td>\n",
       "      <td>1.858567</td>\n",
       "      <td>1.834793</td>\n",
       "      <td>1.847561</td>\n",
       "      <td>1.910767</td>\n",
       "      <td>1.941668</td>\n",
       "      <td>...</td>\n",
       "      <td>5.536647</td>\n",
       "      <td>3.512093</td>\n",
       "      <td>5.230117</td>\n",
       "      <td>1.698540</td>\n",
       "      <td>5.165093</td>\n",
       "      <td>3.436272</td>\n",
       "      <td>4.168211</td>\n",
       "      <td>1.790768</td>\n",
       "      <td>2.576072e+06</td>\n",
       "      <td>4.027359</td>\n",
       "    </tr>\n",
       "    <tr>\n",
       "      <th>min</th>\n",
       "      <td>1.000000</td>\n",
       "      <td>1.000000</td>\n",
       "      <td>0.000000</td>\n",
       "      <td>3.000000</td>\n",
       "      <td>1.000000</td>\n",
       "      <td>1.000000</td>\n",
       "      <td>4.000000</td>\n",
       "      <td>4.000000</td>\n",
       "      <td>1.000000</td>\n",
       "      <td>2.000000</td>\n",
       "      <td>...</td>\n",
       "      <td>0.000000</td>\n",
       "      <td>0.000000</td>\n",
       "      <td>0.000000</td>\n",
       "      <td>0.000000</td>\n",
       "      <td>0.000000</td>\n",
       "      <td>0.000000</td>\n",
       "      <td>0.000000</td>\n",
       "      <td>0.000000</td>\n",
       "      <td>1.149870e+06</td>\n",
       "      <td>8.000000</td>\n",
       "    </tr>\n",
       "    <tr>\n",
       "      <th>25%</th>\n",
       "      <td>2.000000</td>\n",
       "      <td>4.000000</td>\n",
       "      <td>4.000000</td>\n",
       "      <td>4.000000</td>\n",
       "      <td>1.000000</td>\n",
       "      <td>4.000000</td>\n",
       "      <td>4.000000</td>\n",
       "      <td>5.000000</td>\n",
       "      <td>2.000000</td>\n",
       "      <td>4.000000</td>\n",
       "      <td>...</td>\n",
       "      <td>0.000000</td>\n",
       "      <td>0.000000</td>\n",
       "      <td>0.000000</td>\n",
       "      <td>0.000000</td>\n",
       "      <td>0.000000</td>\n",
       "      <td>0.000000</td>\n",
       "      <td>0.000000</td>\n",
       "      <td>0.000000</td>\n",
       "      <td>2.999068e+06</td>\n",
       "      <td>11.000000</td>\n",
       "    </tr>\n",
       "    <tr>\n",
       "      <th>50%</th>\n",
       "      <td>3.000000</td>\n",
       "      <td>5.000000</td>\n",
       "      <td>4.000000</td>\n",
       "      <td>4.000000</td>\n",
       "      <td>2.000000</td>\n",
       "      <td>5.000000</td>\n",
       "      <td>5.000000</td>\n",
       "      <td>5.000000</td>\n",
       "      <td>3.000000</td>\n",
       "      <td>5.000000</td>\n",
       "      <td>...</td>\n",
       "      <td>0.000000</td>\n",
       "      <td>0.000000</td>\n",
       "      <td>0.000000</td>\n",
       "      <td>0.000000</td>\n",
       "      <td>0.000000</td>\n",
       "      <td>0.000000</td>\n",
       "      <td>0.000000</td>\n",
       "      <td>0.000000</td>\n",
       "      <td>3.939804e+06</td>\n",
       "      <td>12.000000</td>\n",
       "    </tr>\n",
       "    <tr>\n",
       "      <th>75%</th>\n",
       "      <td>4.000000</td>\n",
       "      <td>5.000000</td>\n",
       "      <td>5.000000</td>\n",
       "      <td>5.000000</td>\n",
       "      <td>2.000000</td>\n",
       "      <td>5.000000</td>\n",
       "      <td>5.000000</td>\n",
       "      <td>5.000000</td>\n",
       "      <td>4.000000</td>\n",
       "      <td>5.000000</td>\n",
       "      <td>...</td>\n",
       "      <td>4.000000</td>\n",
       "      <td>3.000000</td>\n",
       "      <td>3.000000</td>\n",
       "      <td>2.000000</td>\n",
       "      <td>3.000000</td>\n",
       "      <td>4.000000</td>\n",
       "      <td>3.000000</td>\n",
       "      <td>2.000000</td>\n",
       "      <td>5.166635e+06</td>\n",
       "      <td>15.000000</td>\n",
       "    </tr>\n",
       "    <tr>\n",
       "      <th>max</th>\n",
       "      <td>12.000000</td>\n",
       "      <td>7.500000</td>\n",
       "      <td>7.500000</td>\n",
       "      <td>7.500000</td>\n",
       "      <td>8.000000</td>\n",
       "      <td>10.000000</td>\n",
       "      <td>10.000000</td>\n",
       "      <td>10.000000</td>\n",
       "      <td>10.000000</td>\n",
       "      <td>10.000000</td>\n",
       "      <td>...</td>\n",
       "      <td>25.000000</td>\n",
       "      <td>15.000000</td>\n",
       "      <td>25.000000</td>\n",
       "      <td>6.000000</td>\n",
       "      <td>24.000000</td>\n",
       "      <td>15.000000</td>\n",
       "      <td>20.000000</td>\n",
       "      <td>8.000000</td>\n",
       "      <td>1.969694e+07</td>\n",
       "      <td>26.000000</td>\n",
       "    </tr>\n",
       "  </tbody>\n",
       "</table>\n",
       "<p>8 rows × 37 columns</p>\n",
       "</div>"
      ],
      "text/plain": [
       "               P1          P2          P3          P4          P5          P8  \\\n",
       "count  137.000000  137.000000  137.000000  137.000000  137.000000  137.000000   \n",
       "mean     4.014599    4.408759    4.317518    4.372263    2.007299    5.153285   \n",
       "std      2.910391    1.514900    1.032337    1.016462    1.209620    1.858567   \n",
       "min      1.000000    1.000000    0.000000    3.000000    1.000000    1.000000   \n",
       "25%      2.000000    4.000000    4.000000    4.000000    1.000000    4.000000   \n",
       "50%      3.000000    5.000000    4.000000    4.000000    2.000000    5.000000   \n",
       "75%      4.000000    5.000000    5.000000    5.000000    2.000000    5.000000   \n",
       "max     12.000000    7.500000    7.500000    7.500000    8.000000   10.000000   \n",
       "\n",
       "               P9         P10         P11         P12  ...         P30  \\\n",
       "count  137.000000  137.000000  137.000000  137.000000  ...  137.000000   \n",
       "mean     5.445255    5.489051    3.262774    5.299270  ...    2.729927   \n",
       "std      1.834793    1.847561    1.910767    1.941668  ...    5.536647   \n",
       "min      4.000000    4.000000    1.000000    2.000000  ...    0.000000   \n",
       "25%      4.000000    5.000000    2.000000    4.000000  ...    0.000000   \n",
       "50%      5.000000    5.000000    3.000000    5.000000  ...    0.000000   \n",
       "75%      5.000000    5.000000    4.000000    5.000000  ...    4.000000   \n",
       "max     10.000000   10.000000   10.000000   10.000000  ...   25.000000   \n",
       "\n",
       "              P31         P32         P33         P34         P35         P36  \\\n",
       "count  137.000000  137.000000  137.000000  137.000000  137.000000  137.000000   \n",
       "mean     1.941606    2.525547    1.138686    2.489051    2.029197    2.211679   \n",
       "std      3.512093    5.230117    1.698540    5.165093    3.436272    4.168211   \n",
       "min      0.000000    0.000000    0.000000    0.000000    0.000000    0.000000   \n",
       "25%      0.000000    0.000000    0.000000    0.000000    0.000000    0.000000   \n",
       "50%      0.000000    0.000000    0.000000    0.000000    0.000000    0.000000   \n",
       "75%      3.000000    3.000000    2.000000    3.000000    4.000000    3.000000   \n",
       "max     15.000000   25.000000    6.000000   24.000000   15.000000   20.000000   \n",
       "\n",
       "              P37       revenue  Age in years  \n",
       "count  137.000000  1.370000e+02    137.000000  \n",
       "mean     1.116788  4.453533e+06     13.321168  \n",
       "std      1.790768  2.576072e+06      4.027359  \n",
       "min      0.000000  1.149870e+06      8.000000  \n",
       "25%      0.000000  2.999068e+06     11.000000  \n",
       "50%      0.000000  3.939804e+06     12.000000  \n",
       "75%      2.000000  5.166635e+06     15.000000  \n",
       "max      8.000000  1.969694e+07     26.000000  \n",
       "\n",
       "[8 rows x 37 columns]"
      ]
     },
     "execution_count": 6,
     "metadata": {},
     "output_type": "execute_result"
    }
   ],
   "source": [
    "#numerical analysis of int/float columns\n",
    "df.describe()\n",
    "# we observe that the values of independent variables are all of similar scale and mean and median close to each other(mean mostly\n",
    "#greater than median so data is positively skewed a little)"
   ]
  },
  {
   "cell_type": "code",
   "execution_count": 7,
   "id": "58dc4703",
   "metadata": {},
   "outputs": [
    {
     "data": {
      "text/plain": [
       "<AxesSubplot:>"
      ]
     },
     "execution_count": 7,
     "metadata": {},
     "output_type": "execute_result"
    },
    {
     "data": {
      "image/png": "[encoded data removed]",
      "text/plain": [
       "<Figure size 1152x720 with 2 Axes>"
      ]
     },
     "metadata": {
      "needs_background": "light"
     },
     "output_type": "display_data"
    }
   ],
   "source": [
    "#correlation analysis\n",
    "plt.figure(figsize = (16,10)) \n",
    "sns.heatmap(df.drop('revenue',axis=1).corr(),cmap='coolwarm')\n",
    "#There is correlation among independent variables"
   ]
  },
  {
   "cell_type": "code",
   "execution_count": 8,
   "id": "be138e0f",
   "metadata": {},
   "outputs": [
    {
     "name": "stdout",
     "output_type": "stream",
     "text": [
      "No of distinct cities: 34\n",
      "No of distinct city groups: 2\n",
      "No of distinct types : 3\n"
     ]
    }
   ],
   "source": [
    "#Categorical data analysis\n",
    "print('No of distinct cities: {}' .format(df['City'].nunique()))\n",
    "print('No of distinct city groups: {}' .format(df['City Group'].nunique()))\n",
    "print('No of distinct types : {}' .format(df['Type'].nunique()))"
   ]
  },
  {
   "cell_type": "markdown",
   "id": "70ff61e4",
   "metadata": {},
   "source": [
    "Based on above information, we drop 'City' column as many of the cities have only one data point which doesn't really help us at all. The we analyse Sales Revenue based on 'City Group' and 'Type' columns."
   ]
  },
  {
   "cell_type": "code",
   "execution_count": 9,
   "id": "a1059fa3",
   "metadata": {},
   "outputs": [],
   "source": [
    "df.drop(['City'],axis=1,inplace=True)"
   ]
  },
  {
   "cell_type": "code",
   "execution_count": 10,
   "id": "c669a804",
   "metadata": {},
   "outputs": [
    {
     "data": {
      "text/plain": [
       "<AxesSubplot:xlabel='City Group'>"
      ]
     },
     "execution_count": 10,
     "metadata": {},
     "output_type": "execute_result"
    },
    {
     "data": {
      "image/png": "[encoded data removed]",
      "text/plain": [
       "<Figure size 432x288 with 1 Axes>"
      ]
     },
     "metadata": {
      "needs_background": "light"
     },
     "output_type": "display_data"
    }
   ],
   "source": [
    "df.groupby(['City Group']).agg({'revenue':'mean'}).plot(kind='bar')"
   ]
  },
  {
   "cell_type": "markdown",
   "id": "2ea283e1",
   "metadata": {},
   "source": [
    "Higher revenue is observed in big cities"
   ]
  },
  {
   "cell_type": "code",
   "execution_count": 11,
   "id": "77bc7e1d",
   "metadata": {},
   "outputs": [
    {
     "data": {
      "text/plain": [
       "<AxesSubplot:xlabel='Type'>"
      ]
     },
     "execution_count": 11,
     "metadata": {},
     "output_type": "execute_result"
    },
    {
     "data": {
      "image/png": "[encoded data removed]",
      "text/plain": [
       "<Figure size 432x288 with 1 Axes>"
      ]
     },
     "metadata": {
      "needs_background": "light"
     },
     "output_type": "display_data"
    }
   ],
   "source": [
    "df.groupby('Type').agg({'revenue':'mean'}).plot(kind='bar')"
   ]
  },
  {
   "cell_type": "markdown",
   "id": "9bcfc9db",
   "metadata": {},
   "source": [
    "Higher revenue is observed type 'FC' followed by 'IL' and then 'DT'.\n",
    "Now, we try to observe revenue based on both categorical column."
   ]
  },
  {
   "cell_type": "code",
   "execution_count": 12,
   "id": "a7590199",
   "metadata": {},
   "outputs": [
    {
     "data": {
      "text/plain": [
       "<AxesSubplot:xlabel='City Group,Type'>"
      ]
     },
     "execution_count": 12,
     "metadata": {},
     "output_type": "execute_result"
    },
    {
     "data": {
      "image/png": "[encoded data removed]",
      "text/plain": [
       "<Figure size 432x288 with 1 Axes>"
      ]
     },
     "metadata": {
      "needs_background": "light"
     },
     "output_type": "display_data"
    }
   ],
   "source": [
    "df.groupby(['City Group','Type']).agg({'revenue':'mean'}).plot(kind='bar')"
   ]
  },
  {
   "cell_type": "markdown",
   "id": "ed48255f",
   "metadata": {},
   "source": [
    "First of all, there s no type 'DT' in case of 'other' cities. And all types earn more revenue in 'big cities'. Therefore, we must involve these categorical variables as partof our model."
   ]
  },
  {
   "cell_type": "markdown",
   "id": "1d66bcac",
   "metadata": {},
   "source": [
    "Prepration = splitting data"
   ]
  },
  {
   "cell_type": "code",
   "execution_count": 13,
   "id": "b469904a",
   "metadata": {},
   "outputs": [
    {
     "data": {
      "text/html": [
       "<div>\n",
       "<style scoped>\n",
       "    .dataframe tbody tr th:only-of-type {\n",
       "        vertical-align: middle;\n",
       "    }\n",
       "\n",
       "    .dataframe tbody tr th {\n",
       "        vertical-align: top;\n",
       "    }\n",
       "\n",
       "    .dataframe thead th {\n",
       "        text-align: right;\n",
       "    }\n",
       "</style>\n",
       "<table border=\"1\" class=\"dataframe\">\n",
       "  <thead>\n",
       "    <tr style=\"text-align: right;\">\n",
       "      <th></th>\n",
       "      <th>FC</th>\n",
       "      <th>IL</th>\n",
       "    </tr>\n",
       "    <tr>\n",
       "      <th>Id</th>\n",
       "      <th></th>\n",
       "      <th></th>\n",
       "    </tr>\n",
       "  </thead>\n",
       "  <tbody>\n",
       "    <tr>\n",
       "      <th>0</th>\n",
       "      <td>0</td>\n",
       "      <td>1</td>\n",
       "    </tr>\n",
       "    <tr>\n",
       "      <th>1</th>\n",
       "      <td>1</td>\n",
       "      <td>0</td>\n",
       "    </tr>\n",
       "    <tr>\n",
       "      <th>2</th>\n",
       "      <td>0</td>\n",
       "      <td>1</td>\n",
       "    </tr>\n",
       "    <tr>\n",
       "      <th>3</th>\n",
       "      <td>0</td>\n",
       "      <td>1</td>\n",
       "    </tr>\n",
       "    <tr>\n",
       "      <th>4</th>\n",
       "      <td>0</td>\n",
       "      <td>1</td>\n",
       "    </tr>\n",
       "    <tr>\n",
       "      <th>...</th>\n",
       "      <td>...</td>\n",
       "      <td>...</td>\n",
       "    </tr>\n",
       "    <tr>\n",
       "      <th>132</th>\n",
       "      <td>1</td>\n",
       "      <td>0</td>\n",
       "    </tr>\n",
       "    <tr>\n",
       "      <th>133</th>\n",
       "      <td>1</td>\n",
       "      <td>0</td>\n",
       "    </tr>\n",
       "    <tr>\n",
       "      <th>134</th>\n",
       "      <td>1</td>\n",
       "      <td>0</td>\n",
       "    </tr>\n",
       "    <tr>\n",
       "      <th>135</th>\n",
       "      <td>1</td>\n",
       "      <td>0</td>\n",
       "    </tr>\n",
       "    <tr>\n",
       "      <th>136</th>\n",
       "      <td>1</td>\n",
       "      <td>0</td>\n",
       "    </tr>\n",
       "  </tbody>\n",
       "</table>\n",
       "<p>137 rows × 2 columns</p>\n",
       "</div>"
      ],
      "text/plain": [
       "     FC  IL\n",
       "Id         \n",
       "0     0   1\n",
       "1     1   0\n",
       "2     0   1\n",
       "3     0   1\n",
       "4     0   1\n",
       "..   ..  ..\n",
       "132   1   0\n",
       "133   1   0\n",
       "134   1   0\n",
       "135   1   0\n",
       "136   1   0\n",
       "\n",
       "[137 rows x 2 columns]"
      ]
     },
     "execution_count": 13,
     "metadata": {},
     "output_type": "execute_result"
    }
   ],
   "source": [
    "type = pd.get_dummies(df['Type'],drop_first=True)\n",
    "type"
   ]
  },
  {
   "cell_type": "code",
   "execution_count": 14,
   "id": "cdc0ab34",
   "metadata": {},
   "outputs": [
    {
     "data": {
      "text/plain": [
       "Id\n",
       "0      1\n",
       "1      1\n",
       "2      0\n",
       "3      0\n",
       "4      0\n",
       "      ..\n",
       "132    0\n",
       "133    1\n",
       "134    0\n",
       "135    1\n",
       "136    1\n",
       "Name: Big Cities, Length: 137, dtype: uint8"
      ]
     },
     "execution_count": 14,
     "metadata": {},
     "output_type": "execute_result"
    }
   ],
   "source": [
    "city=pd.get_dummies(df['City Group'])['Big Cities']\n",
    "city"
   ]
  },
  {
   "cell_type": "code",
   "execution_count": 15,
   "id": "bc7e4cd4",
   "metadata": {},
   "outputs": [],
   "source": [
    "df=pd.concat([df,city,type],axis=1)\n",
    "df.drop(['Type','City Group'],axis=1,inplace=True)"
   ]
  },
  {
   "cell_type": "code",
   "execution_count": 16,
   "id": "661b6312",
   "metadata": {},
   "outputs": [
    {
     "data": {
      "text/html": [
       "<div>\n",
       "<style scoped>\n",
       "    .dataframe tbody tr th:only-of-type {\n",
       "        vertical-align: middle;\n",
       "    }\n",
       "\n",
       "    .dataframe tbody tr th {\n",
       "        vertical-align: top;\n",
       "    }\n",
       "\n",
       "    .dataframe thead th {\n",
       "        text-align: right;\n",
       "    }\n",
       "</style>\n",
       "<table border=\"1\" class=\"dataframe\">\n",
       "  <thead>\n",
       "    <tr style=\"text-align: right;\">\n",
       "      <th></th>\n",
       "      <th>P1</th>\n",
       "      <th>P2</th>\n",
       "      <th>P3</th>\n",
       "      <th>P4</th>\n",
       "      <th>P5</th>\n",
       "      <th>P8</th>\n",
       "      <th>P9</th>\n",
       "      <th>P10</th>\n",
       "      <th>P11</th>\n",
       "      <th>P12</th>\n",
       "      <th>...</th>\n",
       "      <th>P33</th>\n",
       "      <th>P34</th>\n",
       "      <th>P35</th>\n",
       "      <th>P36</th>\n",
       "      <th>P37</th>\n",
       "      <th>revenue</th>\n",
       "      <th>Age in years</th>\n",
       "      <th>Big Cities</th>\n",
       "      <th>FC</th>\n",
       "      <th>IL</th>\n",
       "    </tr>\n",
       "    <tr>\n",
       "      <th>Id</th>\n",
       "      <th></th>\n",
       "      <th></th>\n",
       "      <th></th>\n",
       "      <th></th>\n",
       "      <th></th>\n",
       "      <th></th>\n",
       "      <th></th>\n",
       "      <th></th>\n",
       "      <th></th>\n",
       "      <th></th>\n",
       "      <th></th>\n",
       "      <th></th>\n",
       "      <th></th>\n",
       "      <th></th>\n",
       "      <th></th>\n",
       "      <th></th>\n",
       "      <th></th>\n",
       "      <th></th>\n",
       "      <th></th>\n",
       "      <th></th>\n",
       "      <th></th>\n",
       "    </tr>\n",
       "  </thead>\n",
       "  <tbody>\n",
       "    <tr>\n",
       "      <th>0</th>\n",
       "      <td>4</td>\n",
       "      <td>5.0</td>\n",
       "      <td>4.0</td>\n",
       "      <td>4.0</td>\n",
       "      <td>2</td>\n",
       "      <td>4</td>\n",
       "      <td>5</td>\n",
       "      <td>5</td>\n",
       "      <td>3</td>\n",
       "      <td>5</td>\n",
       "      <td>...</td>\n",
       "      <td>5</td>\n",
       "      <td>5</td>\n",
       "      <td>4</td>\n",
       "      <td>3</td>\n",
       "      <td>4</td>\n",
       "      <td>5653753</td>\n",
       "      <td>23</td>\n",
       "      <td>1</td>\n",
       "      <td>0</td>\n",
       "      <td>1</td>\n",
       "    </tr>\n",
       "    <tr>\n",
       "      <th>1</th>\n",
       "      <td>4</td>\n",
       "      <td>5.0</td>\n",
       "      <td>4.0</td>\n",
       "      <td>4.0</td>\n",
       "      <td>1</td>\n",
       "      <td>5</td>\n",
       "      <td>5</td>\n",
       "      <td>5</td>\n",
       "      <td>1</td>\n",
       "      <td>5</td>\n",
       "      <td>...</td>\n",
       "      <td>0</td>\n",
       "      <td>0</td>\n",
       "      <td>0</td>\n",
       "      <td>0</td>\n",
       "      <td>0</td>\n",
       "      <td>6923131</td>\n",
       "      <td>14</td>\n",
       "      <td>1</td>\n",
       "      <td>1</td>\n",
       "      <td>0</td>\n",
       "    </tr>\n",
       "    <tr>\n",
       "      <th>2</th>\n",
       "      <td>2</td>\n",
       "      <td>4.0</td>\n",
       "      <td>2.0</td>\n",
       "      <td>5.0</td>\n",
       "      <td>2</td>\n",
       "      <td>5</td>\n",
       "      <td>5</td>\n",
       "      <td>5</td>\n",
       "      <td>2</td>\n",
       "      <td>5</td>\n",
       "      <td>...</td>\n",
       "      <td>0</td>\n",
       "      <td>0</td>\n",
       "      <td>0</td>\n",
       "      <td>0</td>\n",
       "      <td>0</td>\n",
       "      <td>2055379</td>\n",
       "      <td>9</td>\n",
       "      <td>0</td>\n",
       "      <td>0</td>\n",
       "      <td>1</td>\n",
       "    </tr>\n",
       "    <tr>\n",
       "      <th>3</th>\n",
       "      <td>6</td>\n",
       "      <td>4.5</td>\n",
       "      <td>6.0</td>\n",
       "      <td>6.0</td>\n",
       "      <td>4</td>\n",
       "      <td>8</td>\n",
       "      <td>10</td>\n",
       "      <td>10</td>\n",
       "      <td>8</td>\n",
       "      <td>10</td>\n",
       "      <td>...</td>\n",
       "      <td>6</td>\n",
       "      <td>18</td>\n",
       "      <td>12</td>\n",
       "      <td>12</td>\n",
       "      <td>6</td>\n",
       "      <td>2675511</td>\n",
       "      <td>10</td>\n",
       "      <td>0</td>\n",
       "      <td>0</td>\n",
       "      <td>1</td>\n",
       "    </tr>\n",
       "    <tr>\n",
       "      <th>4</th>\n",
       "      <td>3</td>\n",
       "      <td>4.0</td>\n",
       "      <td>3.0</td>\n",
       "      <td>4.0</td>\n",
       "      <td>2</td>\n",
       "      <td>5</td>\n",
       "      <td>5</td>\n",
       "      <td>5</td>\n",
       "      <td>2</td>\n",
       "      <td>5</td>\n",
       "      <td>...</td>\n",
       "      <td>2</td>\n",
       "      <td>3</td>\n",
       "      <td>4</td>\n",
       "      <td>3</td>\n",
       "      <td>3</td>\n",
       "      <td>4316715</td>\n",
       "      <td>13</td>\n",
       "      <td>0</td>\n",
       "      <td>0</td>\n",
       "      <td>1</td>\n",
       "    </tr>\n",
       "  </tbody>\n",
       "</table>\n",
       "<p>5 rows × 40 columns</p>\n",
       "</div>"
      ],
      "text/plain": [
       "    P1   P2   P3   P4  P5  P8  P9  P10  P11  P12  ...  P33  P34  P35  P36  \\\n",
       "Id                                                ...                       \n",
       "0    4  5.0  4.0  4.0   2   4   5    5    3    5  ...    5    5    4    3   \n",
       "1    4  5.0  4.0  4.0   1   5   5    5    1    5  ...    0    0    0    0   \n",
       "2    2  4.0  2.0  5.0   2   5   5    5    2    5  ...    0    0    0    0   \n",
       "3    6  4.5  6.0  6.0   4   8  10   10    8   10  ...    6   18   12   12   \n",
       "4    3  4.0  3.0  4.0   2   5   5    5    2    5  ...    2    3    4    3   \n",
       "\n",
       "    P37  revenue  Age in years  Big Cities  FC  IL  \n",
       "Id                                                  \n",
       "0     4  5653753            23           1   0   1  \n",
       "1     0  6923131            14           1   1   0  \n",
       "2     0  2055379             9           0   0   1  \n",
       "3     6  2675511            10           0   0   1  \n",
       "4     3  4316715            13           0   0   1  \n",
       "\n",
       "[5 rows x 40 columns]"
      ]
     },
     "execution_count": 16,
     "metadata": {},
     "output_type": "execute_result"
    }
   ],
   "source": [
    "df.head()"
   ]
  },
  {
   "cell_type": "code",
   "execution_count": 17,
   "id": "ed85aa74",
   "metadata": {},
   "outputs": [],
   "source": [
    "target='revenue'\n",
    "features=df.drop(target,axis=1).columns\n",
    "X=df[features]\n",
    "y=df[target]"
   ]
  },
  {
   "cell_type": "code",
   "execution_count": 19,
   "id": "07c81ced",
   "metadata": {},
   "outputs": [],
   "source": [
    "X_train, X_test, y_train, y_test = train_test_split(X, y, test_size = 0.2, random_state=42)"
   ]
  },
  {
   "cell_type": "code",
   "execution_count": 20,
   "id": "72a31624",
   "metadata": {},
   "outputs": [
    {
     "name": "stdout",
     "output_type": "stream",
     "text": [
      "feature training dataset shape=(109, 39)\n",
      "feature test dataset shape=(28, 39)\n",
      "output training dataset shape=(109,)\n",
      "output test dataset shape=(28,)\n"
     ]
    }
   ],
   "source": [
    "print('feature training dataset shape='+str(X_train.shape))\n",
    "print('feature test dataset shape='+str(X_test.shape))\n",
    "print('output training dataset shape='+str(y_train.shape))\n",
    "print('output test dataset shape='+str(y_test.shape))"
   ]
  },
  {
   "cell_type": "markdown",
   "id": "030d1dfb",
   "metadata": {},
   "source": [
    "Model defination and analysis"
   ]
  },
  {
   "cell_type": "code",
   "execution_count": 22,
   "id": "8765f121",
   "metadata": {},
   "outputs": [
    {
     "name": "stdout",
     "output_type": "stream",
     "text": [
      "Baseline score = 1566761.9533709285\n"
     ]
    }
   ],
   "source": [
    "#Baseline\n",
    "y_baseline=y_train.mean()\n",
    "print('Baseline score = {}'.format(mean_absolute_error(y_train,([y_baseline]*len(y_train)))))"
   ]
  },
  {
   "cell_type": "code",
   "execution_count": 21,
   "id": "7cdc3512",
   "metadata": {},
   "outputs": [],
   "source": [
    "#Model 1 - Linear Regression"
   ]
  },
  {
   "cell_type": "code",
   "execution_count": 47,
   "id": "04b03186",
   "metadata": {},
   "outputs": [
    {
     "data": {
      "text/plain": [
       "[(25, 1154609.8147644396, 2903153.0294895438),\n",
       " (27, 1155534.9144407038, 2893675.6467581093),\n",
       " (26, 1155669.387520428, 2893517.953396351),\n",
       " (28, 1156252.8691396648, 2887707.1967395437),\n",
       " (29, 1156939.041416566, 2895282.0248783613),\n",
       " (24, 1156946.9855527992, 2888616.02326805),\n",
       " (36, 1158813.4773167623, 2931822.7487903447),\n",
       " (38, 1158989.7321439823, 2953278.855171843),\n",
       " (39, 1159027.7610926647, 2953257.897276573),\n",
       " (35, 1159213.266503395, 2925249.13514969),\n",
       " (37, 1159441.1478985487, 2944165.5275819786),\n",
       " (22, 1160700.33871152, 2821232.3129434693),\n",
       " (21, 1161064.3990561909, 2790902.563016006),\n",
       " (18, 1162562.6369550987, 2818740.639231317),\n",
       " (23, 1162667.3100792032, 2865953.287624974),\n",
       " (33, 1165399.6847306953, 2803604.586177601),\n",
       " (34, 1165677.5563295847, 2863139.5850372347),\n",
       " (30, 1166667.3877335594, 2813899.2865966163),\n",
       " (32, 1167989.9845112085, 2819855.711495952),\n",
       " (19, 1171466.9443963703, 2820938.1422271887),\n",
       " (17, 1173066.0804640173, 2802118.6442211764),\n",
       " (31, 1173336.1406441776, 2837175.7479235195),\n",
       " (20, 1174340.1778197463, 2823201.952400011),\n",
       " (15, 1189888.34033863, 2767616.5194562417),\n",
       " (16, 1193534.5749056153, 2806059.804516103),\n",
       " (14, 1204962.9379336468, 2724057.391266515),\n",
       " (12, 1214985.5026157165, 2650171.62300266),\n",
       " (13, 1216669.1725786575, 2688788.5061681974),\n",
       " (10, 1240561.6003348501, 2662359.51509088),\n",
       " (11, 1248343.2198617863, 2695488.500506963),\n",
       " (9, 1309949.3334139313, 2463024.231100586),\n",
       " (8, 1310628.2539512436, 2559242.242343061),\n",
       " (7, 1376054.0887460597, 2361561.126515016),\n",
       " (6, 1391587.2641076054, 2361991.311561801),\n",
       " (4, 1408255.768056071, 2325924.3417606754),\n",
       " (5, 1408481.0791018906, 2326284.913079745),\n",
       " (3, 1452749.9510490205, 2169643.239828111),\n",
       " (2, 1513586.0083962898, 2113443.0775977434),\n",
       " (1, 1527054.0335012784, 2091646.232947892)]"
      ]
     },
     "execution_count": 47,
     "metadata": {},
     "output_type": "execute_result"
    }
   ],
   "source": [
    "m1=LinearRegression()\n",
    "\n",
    "scores=[]\n",
    "for i in range(1,40):\n",
    "    rfe = RFE(m1, n_features_to_select=i)             \n",
    "    rfe.fit(X_train, y_train)\n",
    "    cols=X_train.columns[rfe.support_]\n",
    "    X_train_temp=X_train[cols]\n",
    "    X_test_temp=X_test[cols]\n",
    "    m1.fit(X_train_temp,y_train)\n",
    "    scores.append((i,mean_absolute_error(m1.predict(X_train_temp),y_train),mean_absolute_error(m1.predict(X_test_temp),y_test)))\n",
    "scores.sort(key=lambda x: x[1])\n",
    "scores"
   ]
  },
  {
   "cell_type": "code",
   "execution_count": 36,
   "id": "f7f99ab9",
   "metadata": {},
   "outputs": [
    {
     "data": {
      "text/plain": [
       "LinearRegression()"
      ]
     },
     "execution_count": 36,
     "metadata": {},
     "output_type": "execute_result"
    }
   ],
   "source": [
    "rfe = RFE(m1, n_features_to_select=25)             \n",
    "rfe.fit(X_train, y_train)\n",
    "cols=X_train.columns[rfe.support_]\n",
    "X_train_temp=X_train[cols]\n",
    "X_test_temp=X_test[cols]\n",
    "m1.fit(X_train_temp,y_train)"
   ]
  },
  {
   "cell_type": "code",
   "execution_count": 37,
   "id": "2926c487",
   "metadata": {},
   "outputs": [
    {
     "data": {
      "text/plain": [
       "2903153.0294895438"
      ]
     },
     "execution_count": 37,
     "metadata": {},
     "output_type": "execute_result"
    }
   ],
   "source": [
    "mean_absolute_error(m1.predict(X_test_temp),y_test)"
   ]
  },
  {
   "cell_type": "markdown",
   "id": "d0ffc014",
   "metadata": {},
   "source": [
    "As we can see above, our maximum train score is 0.5077 which is really bad. So, we move on to other methods. We could also conclude the same based on the correlation matrix as it depicts the case of multi-collinearity."
   ]
  },
  {
   "cell_type": "code",
   "execution_count": 38,
   "id": "7a18fbae",
   "metadata": {},
   "outputs": [
    {
     "name": "stdout",
     "output_type": "stream",
     "text": [
      "feature training dataset shape=(109, 39)\n",
      "feature test dataset shape=(28, 39)\n",
      "output training dataset shape=(109,)\n",
      "output test dataset shape=(28,)\n"
     ]
    }
   ],
   "source": [
    "# model 2 - SVR\n",
    "X_train, X_test, y_train, y_test = train_test_split(X, y, test_size = 0.2, random_state=42)\n",
    "print('feature training dataset shape='+str(X_train.shape))\n",
    "print('feature test dataset shape='+str(X_test.shape))\n",
    "print('output training dataset shape='+str(y_train.shape))\n",
    "print('output test dataset shape='+str(y_test.shape))"
   ]
  },
  {
   "cell_type": "code",
   "execution_count": 46,
   "id": "089627c5",
   "metadata": {},
   "outputs": [
    {
     "data": {
      "text/plain": [
       "[(26, 1147701.354326906, 2795338.4563052296),\n",
       " (28, 1147880.1316093062, 2795966.994284821),\n",
       " (29, 1147962.92297095, 2795834.6757664117),\n",
       " (25, 1147970.550780368, 2804903.0373253236),\n",
       " (27, 1148193.3898207045, 2799568.0533120404),\n",
       " (18, 1152916.9100487824, 2732572.3924767156),\n",
       " (22, 1153778.0453696896, 2748058.3554873914),\n",
       " (23, 1156446.3118121552, 2788315.0391140208),\n",
       " (21, 1157323.5533932263, 2718959.8146675597),\n",
       " (24, 1157893.3206157887, 2785813.3057884774),\n",
       " (37, 1162022.4375703877, 2857112.198894467),\n",
       " (39, 1162117.4631177403, 2864715.114175212),\n",
       " (38, 1162138.1175625916, 2864495.8131526164),\n",
       " (19, 1163280.4632621272, 2748197.7558637694),\n",
       " (36, 1164192.6714438105, 2842536.8381261774),\n",
       " (17, 1164663.3504264494, 2735038.4329038775),\n",
       " (35, 1164981.6760929073, 2841045.661779688),\n",
       " (16, 1165041.8226377233, 2672384.256728978),\n",
       " (20, 1165984.855721441, 2746480.8025991316),\n",
       " (34, 1176986.8574970579, 2776385.367153745),\n",
       " (33, 1177044.4760295793, 2776400.1661985093),\n",
       " (32, 1179190.830377815, 2716493.0915376917),\n",
       " (15, 1179484.6248311405, 2681126.4636952565),\n",
       " (31, 1180199.4480786044, 2708709.0552659305),\n",
       " (14, 1184599.135790155, 2654070.104344257),\n",
       " (30, 1185516.0254842553, 2704555.7631300963),\n",
       " (13, 1203010.2981959442, 2643753.0724127297),\n",
       " (12, 1211103.5309812203, 2623913.7502274676),\n",
       " (10, 1237826.6323145798, 2640801.804776125),\n",
       " (11, 1246532.4232154677, 2670332.8235111353),\n",
       " (9, 1309905.9337738513, 2400247.9999814504),\n",
       " (8, 1310034.5543695672, 2481687.528451641),\n",
       " (7, 1374848.3837522638, 2319802.0502944505),\n",
       " (6, 1393966.56145333, 2324380.497475824),\n",
       " (4, 1408657.241493536, 2296326.107736091),\n",
       " (5, 1409914.5635308179, 2299301.3631226905),\n",
       " (3, 1451727.6615432962, 2155972.41647108),\n",
       " (2, 1511739.9379668753, 2108537.3079210245),\n",
       " (1, 1524589.5280289277, 2086362.644479985)]"
      ]
     },
     "execution_count": 46,
     "metadata": {},
     "output_type": "execute_result"
    }
   ],
   "source": [
    "m2=Ridge()\n",
    "scores=[]\n",
    "for i in range(1,40):\n",
    "    rfe = RFE(m2, n_features_to_select=i)             \n",
    "    rfe.fit(X_train, y_train)\n",
    "    cols=X_train.columns[rfe.support_]\n",
    "    X_train_temp=X_train[cols]\n",
    "    X_test_temp=X_test[cols]\n",
    "    m2.fit(X_train_temp,y_train)\n",
    "    scores.append((i,mean_absolute_error(m2.predict(X_train_temp),y_train),mean_absolute_error(m2.predict(X_test_temp),y_test)))\n",
    "scores.sort(key=lambda x: x[1])\n",
    "scores"
   ]
  },
  {
   "cell_type": "code",
   "execution_count": 53,
   "id": "d2a1d2f1",
   "metadata": {},
   "outputs": [
    {
     "data": {
      "text/plain": [
       "Ridge()"
      ]
     },
     "execution_count": 53,
     "metadata": {},
     "output_type": "execute_result"
    }
   ],
   "source": [
    "rfe = RFE(Ridge(), n_features_to_select=26)             \n",
    "rfe.fit(X_train, y_train)\n",
    "cols=X_train.columns[rfe.support_]\n",
    "X_train_temp=X_train[cols]\n",
    "X_test_temp=X_test[cols]\n",
    "m2.fit(X_train_temp,y_train)"
   ]
  },
  {
   "cell_type": "code",
   "execution_count": 54,
   "id": "f698e22f",
   "metadata": {},
   "outputs": [
    {
     "data": {
      "text/plain": [
       "2795338.4563052296"
      ]
     },
     "execution_count": 54,
     "metadata": {},
     "output_type": "execute_result"
    }
   ],
   "source": [
    "mean_absolute_error(m2.predict(X_test_temp),y_test)"
   ]
  },
  {
   "cell_type": "markdown",
   "id": "fc81ee9f",
   "metadata": {},
   "source": [
    "Also, very bad."
   ]
  },
  {
   "cell_type": "code",
   "execution_count": 55,
   "id": "46909803",
   "metadata": {},
   "outputs": [
    {
     "name": "stdout",
     "output_type": "stream",
     "text": [
      "feature training dataset shape=(109, 39)\n",
      "feature test dataset shape=(28, 39)\n",
      "output training dataset shape=(109,)\n",
      "output test dataset shape=(28,)\n"
     ]
    }
   ],
   "source": [
    "#model 3 - Decision tree\n",
    "X_train, X_test, y_train, y_test = train_test_split(X, y, test_size = 0.2, random_state=42)\n",
    "print('feature training dataset shape='+str(X_train.shape))\n",
    "print('feature test dataset shape='+str(X_test.shape))\n",
    "print('output training dataset shape='+str(y_train.shape))\n",
    "print('output test dataset shape='+str(y_test.shape))"
   ]
  },
  {
   "cell_type": "code",
   "execution_count": 56,
   "id": "9995f9be",
   "metadata": {},
   "outputs": [
    {
     "data": {
      "text/plain": [
       "DecisionTreeRegressor(random_state=42)"
      ]
     },
     "execution_count": 56,
     "metadata": {},
     "output_type": "execute_result"
    }
   ],
   "source": [
    "m4=DecisionTreeRegressor(random_state=42)\n",
    "m4"
   ]
  },
  {
   "cell_type": "code",
   "execution_count": 57,
   "id": "7ce17dea",
   "metadata": {},
   "outputs": [
    {
     "data": {
      "text/plain": [
       "{'max_depth': range(1, 25)}"
      ]
     },
     "execution_count": 57,
     "metadata": {},
     "output_type": "execute_result"
    }
   ],
   "source": [
    "params = {'max_depth': range(1, 25)}\n",
    "params"
   ]
  },
  {
   "cell_type": "code",
   "execution_count": 58,
   "id": "1608ce38",
   "metadata": {},
   "outputs": [
    {
     "name": "stdout",
     "output_type": "stream",
     "text": [
      "Fitting 5 folds for each of 24 candidates, totalling 120 fits\n"
     ]
    },
    {
     "data": {
      "text/plain": [
       "GridSearchCV(cv=5, estimator=DecisionTreeRegressor(random_state=42),\n",
       "             param_grid={'max_depth': range(1, 25)}, verbose=True)"
      ]
     },
     "execution_count": 58,
     "metadata": {},
     "output_type": "execute_result"
    }
   ],
   "source": [
    "tree = GridSearchCV(m4, params, \n",
    "                    cv=5, \n",
    "                   verbose=True)\n",
    "tree.fit(X_train, y_train)"
   ]
  },
  {
   "cell_type": "code",
   "execution_count": 60,
   "id": "b5c3ebd2",
   "metadata": {},
   "outputs": [
    {
     "data": {
      "text/plain": [
       "1235712.5722921556"
      ]
     },
     "execution_count": 60,
     "metadata": {},
     "output_type": "execute_result"
    }
   ],
   "source": [
    "mean_absolute_error(tree.predict(X_train),y_train)"
   ]
  },
  {
   "cell_type": "code",
   "execution_count": 61,
   "id": "f2beadb1",
   "metadata": {},
   "outputs": [
    {
     "data": {
      "text/plain": [
       "1921042.6986434106"
      ]
     },
     "execution_count": 61,
     "metadata": {},
     "output_type": "execute_result"
    }
   ],
   "source": [
    "mean_absolute_error(tree.predict(X_test),y_test)"
   ]
  },
  {
   "cell_type": "code",
   "execution_count": 62,
   "id": "276ed957",
   "metadata": {},
   "outputs": [
    {
     "name": "stdout",
     "output_type": "stream",
     "text": [
      "feature training dataset shape=(109, 39)\n",
      "feature test dataset shape=(28, 39)\n",
      "output training dataset shape=(109,)\n",
      "output test dataset shape=(28,)\n"
     ]
    }
   ],
   "source": [
    "#m4 KNN regressor\n",
    "X_train, X_test, y_train, y_test = train_test_split(X, y, test_size = 0.2, random_state=42)\n",
    "print('feature training dataset shape='+str(X_train.shape))\n",
    "print('feature test dataset shape='+str(X_test.shape))\n",
    "print('output training dataset shape='+str(y_train.shape))\n",
    "print('output test dataset shape='+str(y_test.shape))"
   ]
  },
  {
   "cell_type": "code",
   "execution_count": 63,
   "id": "cc8227ae",
   "metadata": {},
   "outputs": [
    {
     "data": {
      "text/plain": [
       "KNeighborsRegressor()"
      ]
     },
     "execution_count": 63,
     "metadata": {},
     "output_type": "execute_result"
    }
   ],
   "source": [
    "m5=KNeighborsRegressor()\n",
    "m5"
   ]
  },
  {
   "cell_type": "code",
   "execution_count": 64,
   "id": "95b46cb9",
   "metadata": {},
   "outputs": [],
   "source": [
    "params={'n_neighbors':range(10,21)}"
   ]
  },
  {
   "cell_type": "code",
   "execution_count": 65,
   "id": "e3e6485b",
   "metadata": {},
   "outputs": [
    {
     "name": "stdout",
     "output_type": "stream",
     "text": [
      "Fitting 5 folds for each of 11 candidates, totalling 55 fits\n"
     ]
    },
    {
     "data": {
      "text/plain": [
       "GridSearchCV(cv=5, estimator=KNeighborsRegressor(),\n",
       "             param_grid={'n_neighbors': range(10, 21)}, verbose=True)"
      ]
     },
     "execution_count": 65,
     "metadata": {},
     "output_type": "execute_result"
    }
   ],
   "source": [
    "NN = GridSearchCV(m5, params, \n",
    "                    cv=5, \n",
    "                   verbose=True)\n",
    "NN.fit(X_train, y_train)"
   ]
  },
  {
   "cell_type": "code",
   "execution_count": 66,
   "id": "4a13fe6c",
   "metadata": {},
   "outputs": [
    {
     "data": {
      "text/plain": [
       "1356847.7798165134"
      ]
     },
     "execution_count": 66,
     "metadata": {},
     "output_type": "execute_result"
    }
   ],
   "source": [
    "mean_absolute_error(NN.predict(X_train),y_train)"
   ]
  },
  {
   "cell_type": "code",
   "execution_count": 67,
   "id": "497dfa75",
   "metadata": {},
   "outputs": [
    {
     "data": {
      "text/plain": [
       "2090230.5678571428"
      ]
     },
     "execution_count": 67,
     "metadata": {},
     "output_type": "execute_result"
    }
   ],
   "source": [
    "mean_absolute_error(NN.predict(X_test),y_test)"
   ]
  },
  {
   "cell_type": "code",
   "execution_count": 68,
   "id": "24b905fe",
   "metadata": {},
   "outputs": [
    {
     "name": "stdout",
     "output_type": "stream",
     "text": [
      "feature training dataset shape=(109, 39)\n",
      "feature test dataset shape=(28, 39)\n",
      "output training dataset shape=(109,)\n",
      "output test dataset shape=(28,)\n"
     ]
    }
   ],
   "source": [
    "#m6 Random Forest\n",
    "X_train, X_test, y_train, y_test = train_test_split(X, y, test_size = 0.2, random_state=42)\n",
    "print('feature training dataset shape='+str(X_train.shape))\n",
    "print('feature test dataset shape='+str(X_test.shape))\n",
    "print('output training dataset shape='+str(y_train.shape))\n",
    "print('output test dataset shape='+str(y_test.shape))"
   ]
  },
  {
   "cell_type": "code",
   "execution_count": 72,
   "id": "1c3ac659",
   "metadata": {},
   "outputs": [
    {
     "data": {
      "text/plain": [
       "RandomForestRegressor()"
      ]
     },
     "execution_count": 72,
     "metadata": {},
     "output_type": "execute_result"
    }
   ],
   "source": [
    "m6=RandomForestRegressor()\n",
    "m6"
   ]
  },
  {
   "cell_type": "code",
   "execution_count": 73,
   "id": "9e30432d",
   "metadata": {},
   "outputs": [],
   "source": [
    "params={'n_estimators':range(10,100,10),'max_depth':range(10,21)}"
   ]
  },
  {
   "cell_type": "code",
   "execution_count": 77,
   "id": "f0119910",
   "metadata": {},
   "outputs": [
    {
     "name": "stdout",
     "output_type": "stream",
     "text": [
      "Fitting 5 folds for each of 99 candidates, totalling 495 fits\n"
     ]
    },
    {
     "data": {
      "text/plain": [
       "GridSearchCV(cv=5, estimator=RandomForestRegressor(),\n",
       "             param_grid={'max_depth': range(10, 21),\n",
       "                         'n_estimators': range(10, 100, 10)},\n",
       "             verbose=True)"
      ]
     },
     "execution_count": 77,
     "metadata": {},
     "output_type": "execute_result"
    }
   ],
   "source": [
    "rf= GridSearchCV(m6, params, \n",
    "                    cv=5, \n",
    "                   verbose=True)\n",
    "rf.fit(X_train, y_train)"
   ]
  },
  {
   "cell_type": "code",
   "execution_count": 78,
   "id": "3d63a444",
   "metadata": {},
   "outputs": [
    {
     "data": {
      "text/plain": [
       "600353.5279816514"
      ]
     },
     "execution_count": 78,
     "metadata": {},
     "output_type": "execute_result"
    }
   ],
   "source": [
    "mean_absolute_error(rf.predict(X_train),y_train)"
   ]
  },
  {
   "cell_type": "code",
   "execution_count": 79,
   "id": "78207398",
   "metadata": {},
   "outputs": [
    {
     "data": {
      "text/plain": [
       "1839741.767857143"
      ]
     },
     "execution_count": 79,
     "metadata": {},
     "output_type": "execute_result"
    }
   ],
   "source": [
    "mean_absolute_error(rf.predict(X_test),y_test)"
   ]
  },
  {
   "cell_type": "code",
   "execution_count": 80,
   "id": "bccb9c7c",
   "metadata": {},
   "outputs": [
    {
     "name": "stdout",
     "output_type": "stream",
     "text": [
      "feature training dataset shape=(109, 39)\n",
      "feature test dataset shape=(28, 39)\n",
      "output training dataset shape=(109,)\n",
      "output test dataset shape=(28,)\n"
     ]
    }
   ],
   "source": [
    "#model 7- Gradient Descent Regressor\n",
    "X_train, X_test, y_train, y_test = train_test_split(X, y, test_size = 0.2, random_state=42)\n",
    "print('feature training dataset shape='+str(X_train.shape))\n",
    "print('feature test dataset shape='+str(X_test.shape))\n",
    "print('output training dataset shape='+str(y_train.shape))\n",
    "print('output test dataset shape='+str(y_test.shape))"
   ]
  },
  {
   "cell_type": "code",
   "execution_count": 81,
   "id": "9b4c72d0",
   "metadata": {},
   "outputs": [
    {
     "data": {
      "text/plain": [
       "GradientBoostingRegressor()"
      ]
     },
     "execution_count": 81,
     "metadata": {},
     "output_type": "execute_result"
    }
   ],
   "source": [
    "m7=GradientBoostingRegressor()\n",
    "m7"
   ]
  },
  {
   "cell_type": "code",
   "execution_count": 84,
   "id": "f3f5c30e",
   "metadata": {},
   "outputs": [],
   "source": [
    "params={'n_estimators':range(10,100,10),'max_depth':range(10,21),'learning_rate': [0.01,0.05,0.1,0.2,0.3,0.4,0.5]}"
   ]
  },
  {
   "cell_type": "code",
   "execution_count": 85,
   "id": "1628ecae",
   "metadata": {},
   "outputs": [
    {
     "name": "stdout",
     "output_type": "stream",
     "text": [
      "Fitting 5 folds for each of 693 candidates, totalling 3465 fits\n"
     ]
    },
    {
     "data": {
      "text/plain": [
       "GridSearchCV(cv=5, estimator=GradientBoostingRegressor(),\n",
       "             param_grid={'learning_rate': [0.01, 0.05, 0.1, 0.2, 0.3, 0.4, 0.5],\n",
       "                         'max_depth': range(10, 21),\n",
       "                         'n_estimators': range(10, 100, 10)},\n",
       "             verbose=True)"
      ]
     },
     "execution_count": 85,
     "metadata": {},
     "output_type": "execute_result"
    }
   ],
   "source": [
    "gb= GridSearchCV(m7, params, \n",
    "                    cv=5, \n",
    "                   verbose=True)\n",
    "gb.fit(X_train, y_train)"
   ]
  },
  {
   "cell_type": "code",
   "execution_count": 88,
   "id": "9e8bf606",
   "metadata": {},
   "outputs": [
    {
     "data": {
      "text/plain": [
       "1281465.4712254717"
      ]
     },
     "execution_count": 88,
     "metadata": {},
     "output_type": "execute_result"
    }
   ],
   "source": [
    "mean_absolute_error(gb.predict(X_train),y_train)"
   ]
  },
  {
   "cell_type": "code",
   "execution_count": 89,
   "id": "53725abc",
   "metadata": {},
   "outputs": [
    {
     "data": {
      "text/plain": [
       "1889957.2730689435"
      ]
     },
     "execution_count": 89,
     "metadata": {},
     "output_type": "execute_result"
    }
   ],
   "source": [
    "mean_absolute_error(gb.predict(X_test),y_test)"
   ]
  },
  {
   "cell_type": "markdown",
   "id": "50807abf",
   "metadata": {},
   "source": [
    "Therefore, the best model is random forest."
   ]
  },
  {
   "cell_type": "code",
   "execution_count": 90,
   "id": "8fa9a0bf",
   "metadata": {},
   "outputs": [
    {
     "data": {
      "text/plain": [
       "GradientBoostingRegressor(learning_rate=0.01, max_depth=20, n_estimators=20)"
      ]
     },
     "execution_count": 90,
     "metadata": {},
     "output_type": "execute_result"
    }
   ],
   "source": [
    "gb.best_estimator_"
   ]
  },
  {
   "cell_type": "code",
   "execution_count": 91,
   "id": "8136b27a",
   "metadata": {},
   "outputs": [],
   "source": [
    "best_model=GradientBoostingRegressor(learning_rate=0.01, max_depth=20, n_estimators=20)"
   ]
  },
  {
   "cell_type": "code",
   "execution_count": 92,
   "id": "af115800",
   "metadata": {},
   "outputs": [
    {
     "data": {
      "text/plain": [
       "GradientBoostingRegressor(learning_rate=0.01, max_depth=20, n_estimators=20)"
      ]
     },
     "execution_count": 92,
     "metadata": {},
     "output_type": "execute_result"
    }
   ],
   "source": [
    "best_model.fit(X_train,y_train)"
   ]
  },
  {
   "cell_type": "code",
   "execution_count": 96,
   "id": "519e9130",
   "metadata": {},
   "outputs": [],
   "source": [
    "feat_imp=best_model.feature_importances_\n",
    "features=X_train.columns\n",
    "importances=pd.Series(feat_imp,index=features).sort_values()"
   ]
  },
  {
   "cell_type": "code",
   "execution_count": 99,
   "id": "6eefde02",
   "metadata": {},
   "outputs": [
    {
     "data": {
      "text/plain": [
       "<AxesSubplot:>"
      ]
     },
     "execution_count": 99,
     "metadata": {},
     "output_type": "execute_result"
    },
    {
     "data": {
      "image/png": "[encoded data removed]",
      "text/plain": [
       "<Figure size 432x288 with 1 Axes>"
      ]
     },
     "metadata": {
      "needs_background": "light"
     },
     "output_type": "display_data"
    }
   ],
   "source": [
    "#10 best features\n",
    "importances.tail(10).plot(kind='barh')"
   ]
  },
  {
   "cell_type": "code",
   "execution_count": null,
   "id": "61acc25e",
   "metadata": {},
   "outputs": [],
   "source": []
  }
 ],
 "metadata": {
  "kernelspec": {
   "display_name": "Python 3 (ipykernel)",
   "language": "python",
   "name": "python3"
  },
  "language_info": {
   "codemirror_mode": {
    "name": "ipython",
    "version": 3
   },
   "file_extension": ".py",
   "mimetype": "text/x-python",
   "name": "python",
   "nbconvert_exporter": "python",
   "pygments_lexer": "ipython3",
   "version": "3.9.2"
  }
 },
 "nbformat": 4,
 "nbformat_minor": 5
}
