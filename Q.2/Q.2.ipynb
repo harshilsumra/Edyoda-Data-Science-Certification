{
 "cells": [
  {
   "cell_type": "code",
   "execution_count": 1,
   "id": "13300017",
   "metadata": {},
   "outputs": [],
   "source": [
    "#import necessary libraries\n",
    "import numpy as np\n",
    "import pandas as pd\n",
    "import matplotlib.pyplot as plt\n",
    "import seaborn as sns\n",
    "from sklearn.model_selection import train_test_split\n",
    "from sklearn.linear_model import LogisticRegression\n",
    "from sklearn.decomposition import PCA\n",
    "from sklearn.metrics import ConfusionMatrixDisplay,confusion_matrix,classification_report,accuracy_score\n",
    "from sklearn.ensemble import RandomForestClassifier,GradientBoostingClassifier,AdaBoostClassifier\n",
    "from sklearn.linear_model import LogisticRegression\n",
    "from sklearn.feature_selection import RFE\n",
    "from sklearn.preprocessing import StandardScaler\n",
    "from sklearn.pipeline import make_pipeline\n",
    "from sklearn.tree import DecisionTreeClassifier\n",
    "from sklearn.svm import SVC\n",
    "from sklearn.model_selection import GridSearchCV, cross_val_score\n",
    "%matplotlib inline"
   ]
  },
  {
   "cell_type": "code",
   "execution_count": 2,
   "id": "4709ee34",
   "metadata": {},
   "outputs": [
    {
     "data": {
      "text/html": [
       "<div>\n",
       "<style scoped>\n",
       "    .dataframe tbody tr th:only-of-type {\n",
       "        vertical-align: middle;\n",
       "    }\n",
       "\n",
       "    .dataframe tbody tr th {\n",
       "        vertical-align: top;\n",
       "    }\n",
       "\n",
       "    .dataframe thead th {\n",
       "        text-align: right;\n",
       "    }\n",
       "</style>\n",
       "<table border=\"1\" class=\"dataframe\">\n",
       "  <thead>\n",
       "    <tr style=\"text-align: right;\">\n",
       "      <th></th>\n",
       "      <th>MDVP:Fo(Hz)</th>\n",
       "      <th>MDVP:Fhi(Hz)</th>\n",
       "      <th>MDVP:Flo(Hz)</th>\n",
       "      <th>MDVP:Jitter(%)</th>\n",
       "      <th>MDVP:Jitter(Abs)</th>\n",
       "      <th>MDVP:RAP</th>\n",
       "      <th>MDVP:PPQ</th>\n",
       "      <th>Jitter:DDP</th>\n",
       "      <th>MDVP:Shimmer</th>\n",
       "      <th>MDVP:Shimmer(dB)</th>\n",
       "      <th>...</th>\n",
       "      <th>Shimmer:DDA</th>\n",
       "      <th>NHR</th>\n",
       "      <th>HNR</th>\n",
       "      <th>status</th>\n",
       "      <th>RPDE</th>\n",
       "      <th>DFA</th>\n",
       "      <th>spread1</th>\n",
       "      <th>spread2</th>\n",
       "      <th>D2</th>\n",
       "      <th>PPE</th>\n",
       "    </tr>\n",
       "    <tr>\n",
       "      <th>name</th>\n",
       "      <th></th>\n",
       "      <th></th>\n",
       "      <th></th>\n",
       "      <th></th>\n",
       "      <th></th>\n",
       "      <th></th>\n",
       "      <th></th>\n",
       "      <th></th>\n",
       "      <th></th>\n",
       "      <th></th>\n",
       "      <th></th>\n",
       "      <th></th>\n",
       "      <th></th>\n",
       "      <th></th>\n",
       "      <th></th>\n",
       "      <th></th>\n",
       "      <th></th>\n",
       "      <th></th>\n",
       "      <th></th>\n",
       "      <th></th>\n",
       "      <th></th>\n",
       "    </tr>\n",
       "  </thead>\n",
       "  <tbody>\n",
       "    <tr>\n",
       "      <th>phon_R01_S01_1</th>\n",
       "      <td>119.992</td>\n",
       "      <td>157.302</td>\n",
       "      <td>74.997</td>\n",
       "      <td>0.00784</td>\n",
       "      <td>0.00007</td>\n",
       "      <td>0.00370</td>\n",
       "      <td>0.00554</td>\n",
       "      <td>0.01109</td>\n",
       "      <td>0.04374</td>\n",
       "      <td>0.426</td>\n",
       "      <td>...</td>\n",
       "      <td>0.06545</td>\n",
       "      <td>0.02211</td>\n",
       "      <td>21.033</td>\n",
       "      <td>1</td>\n",
       "      <td>0.414783</td>\n",
       "      <td>0.815285</td>\n",
       "      <td>-4.813031</td>\n",
       "      <td>0.266482</td>\n",
       "      <td>2.301442</td>\n",
       "      <td>0.284654</td>\n",
       "    </tr>\n",
       "    <tr>\n",
       "      <th>phon_R01_S01_2</th>\n",
       "      <td>122.400</td>\n",
       "      <td>148.650</td>\n",
       "      <td>113.819</td>\n",
       "      <td>0.00968</td>\n",
       "      <td>0.00008</td>\n",
       "      <td>0.00465</td>\n",
       "      <td>0.00696</td>\n",
       "      <td>0.01394</td>\n",
       "      <td>0.06134</td>\n",
       "      <td>0.626</td>\n",
       "      <td>...</td>\n",
       "      <td>0.09403</td>\n",
       "      <td>0.01929</td>\n",
       "      <td>19.085</td>\n",
       "      <td>1</td>\n",
       "      <td>0.458359</td>\n",
       "      <td>0.819521</td>\n",
       "      <td>-4.075192</td>\n",
       "      <td>0.335590</td>\n",
       "      <td>2.486855</td>\n",
       "      <td>0.368674</td>\n",
       "    </tr>\n",
       "    <tr>\n",
       "      <th>phon_R01_S01_3</th>\n",
       "      <td>116.682</td>\n",
       "      <td>131.111</td>\n",
       "      <td>111.555</td>\n",
       "      <td>0.01050</td>\n",
       "      <td>0.00009</td>\n",
       "      <td>0.00544</td>\n",
       "      <td>0.00781</td>\n",
       "      <td>0.01633</td>\n",
       "      <td>0.05233</td>\n",
       "      <td>0.482</td>\n",
       "      <td>...</td>\n",
       "      <td>0.08270</td>\n",
       "      <td>0.01309</td>\n",
       "      <td>20.651</td>\n",
       "      <td>1</td>\n",
       "      <td>0.429895</td>\n",
       "      <td>0.825288</td>\n",
       "      <td>-4.443179</td>\n",
       "      <td>0.311173</td>\n",
       "      <td>2.342259</td>\n",
       "      <td>0.332634</td>\n",
       "    </tr>\n",
       "    <tr>\n",
       "      <th>phon_R01_S01_4</th>\n",
       "      <td>116.676</td>\n",
       "      <td>137.871</td>\n",
       "      <td>111.366</td>\n",
       "      <td>0.00997</td>\n",
       "      <td>0.00009</td>\n",
       "      <td>0.00502</td>\n",
       "      <td>0.00698</td>\n",
       "      <td>0.01505</td>\n",
       "      <td>0.05492</td>\n",
       "      <td>0.517</td>\n",
       "      <td>...</td>\n",
       "      <td>0.08771</td>\n",
       "      <td>0.01353</td>\n",
       "      <td>20.644</td>\n",
       "      <td>1</td>\n",
       "      <td>0.434969</td>\n",
       "      <td>0.819235</td>\n",
       "      <td>-4.117501</td>\n",
       "      <td>0.334147</td>\n",
       "      <td>2.405554</td>\n",
       "      <td>0.368975</td>\n",
       "    </tr>\n",
       "    <tr>\n",
       "      <th>phon_R01_S01_5</th>\n",
       "      <td>116.014</td>\n",
       "      <td>141.781</td>\n",
       "      <td>110.655</td>\n",
       "      <td>0.01284</td>\n",
       "      <td>0.00011</td>\n",
       "      <td>0.00655</td>\n",
       "      <td>0.00908</td>\n",
       "      <td>0.01966</td>\n",
       "      <td>0.06425</td>\n",
       "      <td>0.584</td>\n",
       "      <td>...</td>\n",
       "      <td>0.10470</td>\n",
       "      <td>0.01767</td>\n",
       "      <td>19.649</td>\n",
       "      <td>1</td>\n",
       "      <td>0.417356</td>\n",
       "      <td>0.823484</td>\n",
       "      <td>-3.747787</td>\n",
       "      <td>0.234513</td>\n",
       "      <td>2.332180</td>\n",
       "      <td>0.410335</td>\n",
       "    </tr>\n",
       "  </tbody>\n",
       "</table>\n",
       "<p>5 rows × 23 columns</p>\n",
       "</div>"
      ],
      "text/plain": [
       "                MDVP:Fo(Hz)  MDVP:Fhi(Hz)  MDVP:Flo(Hz)  MDVP:Jitter(%)  \\\n",
       "name                                                                      \n",
       "phon_R01_S01_1      119.992       157.302        74.997         0.00784   \n",
       "phon_R01_S01_2      122.400       148.650       113.819         0.00968   \n",
       "phon_R01_S01_3      116.682       131.111       111.555         0.01050   \n",
       "phon_R01_S01_4      116.676       137.871       111.366         0.00997   \n",
       "phon_R01_S01_5      116.014       141.781       110.655         0.01284   \n",
       "\n",
       "                MDVP:Jitter(Abs)  MDVP:RAP  MDVP:PPQ  Jitter:DDP  \\\n",
       "name                                                               \n",
       "phon_R01_S01_1           0.00007   0.00370   0.00554     0.01109   \n",
       "phon_R01_S01_2           0.00008   0.00465   0.00696     0.01394   \n",
       "phon_R01_S01_3           0.00009   0.00544   0.00781     0.01633   \n",
       "phon_R01_S01_4           0.00009   0.00502   0.00698     0.01505   \n",
       "phon_R01_S01_5           0.00011   0.00655   0.00908     0.01966   \n",
       "\n",
       "                MDVP:Shimmer  MDVP:Shimmer(dB)  ...  Shimmer:DDA      NHR  \\\n",
       "name                                            ...                         \n",
       "phon_R01_S01_1       0.04374             0.426  ...      0.06545  0.02211   \n",
       "phon_R01_S01_2       0.06134             0.626  ...      0.09403  0.01929   \n",
       "phon_R01_S01_3       0.05233             0.482  ...      0.08270  0.01309   \n",
       "phon_R01_S01_4       0.05492             0.517  ...      0.08771  0.01353   \n",
       "phon_R01_S01_5       0.06425             0.584  ...      0.10470  0.01767   \n",
       "\n",
       "                   HNR  status      RPDE       DFA   spread1   spread2  \\\n",
       "name                                                                     \n",
       "phon_R01_S01_1  21.033       1  0.414783  0.815285 -4.813031  0.266482   \n",
       "phon_R01_S01_2  19.085       1  0.458359  0.819521 -4.075192  0.335590   \n",
       "phon_R01_S01_3  20.651       1  0.429895  0.825288 -4.443179  0.311173   \n",
       "phon_R01_S01_4  20.644       1  0.434969  0.819235 -4.117501  0.334147   \n",
       "phon_R01_S01_5  19.649       1  0.417356  0.823484 -3.747787  0.234513   \n",
       "\n",
       "                      D2       PPE  \n",
       "name                                \n",
       "phon_R01_S01_1  2.301442  0.284654  \n",
       "phon_R01_S01_2  2.486855  0.368674  \n",
       "phon_R01_S01_3  2.342259  0.332634  \n",
       "phon_R01_S01_4  2.405554  0.368975  \n",
       "phon_R01_S01_5  2.332180  0.410335  \n",
       "\n",
       "[5 rows x 23 columns]"
      ]
     },
     "execution_count": 2,
     "metadata": {},
     "output_type": "execute_result"
    }
   ],
   "source": [
    "df=pd.read_csv('epilepsy.csv')\n",
    "df.set_index('name',inplace=True)\n",
    "df.head()"
   ]
  },
  {
   "cell_type": "code",
   "execution_count": 3,
   "id": "ea42a37e",
   "metadata": {},
   "outputs": [
    {
     "name": "stdout",
     "output_type": "stream",
     "text": [
      "(195, 23)\n",
      "<class 'pandas.core.frame.DataFrame'>\n",
      "Index: 195 entries, phon_R01_S01_1 to phon_R01_S50_6\n",
      "Data columns (total 23 columns):\n",
      " #   Column            Non-Null Count  Dtype  \n",
      "---  ------            --------------  -----  \n",
      " 0   MDVP:Fo(Hz)       195 non-null    float64\n",
      " 1   MDVP:Fhi(Hz)      195 non-null    float64\n",
      " 2   MDVP:Flo(Hz)      195 non-null    float64\n",
      " 3   MDVP:Jitter(%)    195 non-null    float64\n",
      " 4   MDVP:Jitter(Abs)  195 non-null    float64\n",
      " 5   MDVP:RAP          195 non-null    float64\n",
      " 6   MDVP:PPQ          193 non-null    float64\n",
      " 7   Jitter:DDP        194 non-null    float64\n",
      " 8   MDVP:Shimmer      195 non-null    float64\n",
      " 9   MDVP:Shimmer(dB)  195 non-null    float64\n",
      " 10  Shimmer:APQ3      195 non-null    float64\n",
      " 11  Shimmer:APQ5      195 non-null    float64\n",
      " 12  MDVP:APQ          195 non-null    float64\n",
      " 13  Shimmer:DDA       195 non-null    float64\n",
      " 14  NHR               195 non-null    float64\n",
      " 15  HNR               195 non-null    float64\n",
      " 16  status            195 non-null    int64  \n",
      " 17  RPDE              195 non-null    float64\n",
      " 18  DFA               195 non-null    float64\n",
      " 19  spread1           195 non-null    float64\n",
      " 20  spread2           195 non-null    float64\n",
      " 21  D2                195 non-null    float64\n",
      " 22  PPE               195 non-null    float64\n",
      "dtypes: float64(22), int64(1)\n",
      "memory usage: 36.6+ KB\n"
     ]
    }
   ],
   "source": [
    "print(df.shape)\n",
    "df.info()"
   ]
  },
  {
   "cell_type": "code",
   "execution_count": 4,
   "id": "7dff2448",
   "metadata": {},
   "outputs": [
    {
     "data": {
      "text/html": [
       "<div>\n",
       "<style scoped>\n",
       "    .dataframe tbody tr th:only-of-type {\n",
       "        vertical-align: middle;\n",
       "    }\n",
       "\n",
       "    .dataframe tbody tr th {\n",
       "        vertical-align: top;\n",
       "    }\n",
       "\n",
       "    .dataframe thead th {\n",
       "        text-align: right;\n",
       "    }\n",
       "</style>\n",
       "<table border=\"1\" class=\"dataframe\">\n",
       "  <thead>\n",
       "    <tr style=\"text-align: right;\">\n",
       "      <th></th>\n",
       "      <th>MDVP:Fo(Hz)</th>\n",
       "      <th>MDVP:Fhi(Hz)</th>\n",
       "      <th>MDVP:Flo(Hz)</th>\n",
       "      <th>MDVP:Jitter(%)</th>\n",
       "      <th>MDVP:Jitter(Abs)</th>\n",
       "      <th>MDVP:RAP</th>\n",
       "      <th>MDVP:PPQ</th>\n",
       "      <th>Jitter:DDP</th>\n",
       "      <th>MDVP:Shimmer</th>\n",
       "      <th>MDVP:Shimmer(dB)</th>\n",
       "      <th>...</th>\n",
       "      <th>Shimmer:DDA</th>\n",
       "      <th>NHR</th>\n",
       "      <th>HNR</th>\n",
       "      <th>status</th>\n",
       "      <th>RPDE</th>\n",
       "      <th>DFA</th>\n",
       "      <th>spread1</th>\n",
       "      <th>spread2</th>\n",
       "      <th>D2</th>\n",
       "      <th>PPE</th>\n",
       "    </tr>\n",
       "  </thead>\n",
       "  <tbody>\n",
       "    <tr>\n",
       "      <th>count</th>\n",
       "      <td>195.000000</td>\n",
       "      <td>195.000000</td>\n",
       "      <td>195.000000</td>\n",
       "      <td>195.000000</td>\n",
       "      <td>195.000000</td>\n",
       "      <td>195.000000</td>\n",
       "      <td>193.000000</td>\n",
       "      <td>194.000000</td>\n",
       "      <td>195.000000</td>\n",
       "      <td>195.000000</td>\n",
       "      <td>...</td>\n",
       "      <td>195.000000</td>\n",
       "      <td>195.000000</td>\n",
       "      <td>195.000000</td>\n",
       "      <td>195.000000</td>\n",
       "      <td>195.000000</td>\n",
       "      <td>195.000000</td>\n",
       "      <td>195.000000</td>\n",
       "      <td>195.000000</td>\n",
       "      <td>195.000000</td>\n",
       "      <td>195.000000</td>\n",
       "    </tr>\n",
       "    <tr>\n",
       "      <th>mean</th>\n",
       "      <td>154.228641</td>\n",
       "      <td>197.104918</td>\n",
       "      <td>116.324631</td>\n",
       "      <td>0.006220</td>\n",
       "      <td>0.000044</td>\n",
       "      <td>0.003306</td>\n",
       "      <td>0.003468</td>\n",
       "      <td>0.009932</td>\n",
       "      <td>0.029709</td>\n",
       "      <td>0.282251</td>\n",
       "      <td>...</td>\n",
       "      <td>0.046993</td>\n",
       "      <td>0.024847</td>\n",
       "      <td>21.885974</td>\n",
       "      <td>0.753846</td>\n",
       "      <td>0.498536</td>\n",
       "      <td>0.718099</td>\n",
       "      <td>-5.684397</td>\n",
       "      <td>0.226510</td>\n",
       "      <td>2.381826</td>\n",
       "      <td>0.206552</td>\n",
       "    </tr>\n",
       "    <tr>\n",
       "      <th>std</th>\n",
       "      <td>41.390065</td>\n",
       "      <td>91.491548</td>\n",
       "      <td>43.521413</td>\n",
       "      <td>0.004848</td>\n",
       "      <td>0.000035</td>\n",
       "      <td>0.002968</td>\n",
       "      <td>0.002765</td>\n",
       "      <td>0.008925</td>\n",
       "      <td>0.018857</td>\n",
       "      <td>0.194877</td>\n",
       "      <td>...</td>\n",
       "      <td>0.030459</td>\n",
       "      <td>0.040418</td>\n",
       "      <td>4.425764</td>\n",
       "      <td>0.431878</td>\n",
       "      <td>0.103942</td>\n",
       "      <td>0.055336</td>\n",
       "      <td>1.090208</td>\n",
       "      <td>0.083406</td>\n",
       "      <td>0.382799</td>\n",
       "      <td>0.090119</td>\n",
       "    </tr>\n",
       "    <tr>\n",
       "      <th>min</th>\n",
       "      <td>88.333000</td>\n",
       "      <td>102.145000</td>\n",
       "      <td>65.476000</td>\n",
       "      <td>0.001680</td>\n",
       "      <td>0.000007</td>\n",
       "      <td>0.000680</td>\n",
       "      <td>0.000920</td>\n",
       "      <td>0.002040</td>\n",
       "      <td>0.009540</td>\n",
       "      <td>0.085000</td>\n",
       "      <td>...</td>\n",
       "      <td>0.013640</td>\n",
       "      <td>0.000650</td>\n",
       "      <td>8.441000</td>\n",
       "      <td>0.000000</td>\n",
       "      <td>0.256570</td>\n",
       "      <td>0.574282</td>\n",
       "      <td>-7.964984</td>\n",
       "      <td>0.006274</td>\n",
       "      <td>1.423287</td>\n",
       "      <td>0.044539</td>\n",
       "    </tr>\n",
       "    <tr>\n",
       "      <th>25%</th>\n",
       "      <td>117.572000</td>\n",
       "      <td>134.862500</td>\n",
       "      <td>84.291000</td>\n",
       "      <td>0.003460</td>\n",
       "      <td>0.000020</td>\n",
       "      <td>0.001660</td>\n",
       "      <td>0.001880</td>\n",
       "      <td>0.004982</td>\n",
       "      <td>0.016505</td>\n",
       "      <td>0.148500</td>\n",
       "      <td>...</td>\n",
       "      <td>0.024735</td>\n",
       "      <td>0.005925</td>\n",
       "      <td>19.198000</td>\n",
       "      <td>1.000000</td>\n",
       "      <td>0.421306</td>\n",
       "      <td>0.674758</td>\n",
       "      <td>-6.450096</td>\n",
       "      <td>0.174351</td>\n",
       "      <td>2.099125</td>\n",
       "      <td>0.137451</td>\n",
       "    </tr>\n",
       "    <tr>\n",
       "      <th>50%</th>\n",
       "      <td>148.790000</td>\n",
       "      <td>175.829000</td>\n",
       "      <td>104.315000</td>\n",
       "      <td>0.004940</td>\n",
       "      <td>0.000030</td>\n",
       "      <td>0.002500</td>\n",
       "      <td>0.002700</td>\n",
       "      <td>0.007455</td>\n",
       "      <td>0.022970</td>\n",
       "      <td>0.221000</td>\n",
       "      <td>...</td>\n",
       "      <td>0.038360</td>\n",
       "      <td>0.011660</td>\n",
       "      <td>22.085000</td>\n",
       "      <td>1.000000</td>\n",
       "      <td>0.495954</td>\n",
       "      <td>0.722254</td>\n",
       "      <td>-5.720868</td>\n",
       "      <td>0.218885</td>\n",
       "      <td>2.361532</td>\n",
       "      <td>0.194052</td>\n",
       "    </tr>\n",
       "    <tr>\n",
       "      <th>75%</th>\n",
       "      <td>182.769000</td>\n",
       "      <td>224.205500</td>\n",
       "      <td>140.018500</td>\n",
       "      <td>0.007365</td>\n",
       "      <td>0.000060</td>\n",
       "      <td>0.003835</td>\n",
       "      <td>0.003960</td>\n",
       "      <td>0.011558</td>\n",
       "      <td>0.037885</td>\n",
       "      <td>0.350000</td>\n",
       "      <td>...</td>\n",
       "      <td>0.060795</td>\n",
       "      <td>0.025640</td>\n",
       "      <td>25.075500</td>\n",
       "      <td>1.000000</td>\n",
       "      <td>0.587562</td>\n",
       "      <td>0.761881</td>\n",
       "      <td>-5.046192</td>\n",
       "      <td>0.279234</td>\n",
       "      <td>2.636456</td>\n",
       "      <td>0.252980</td>\n",
       "    </tr>\n",
       "    <tr>\n",
       "      <th>max</th>\n",
       "      <td>260.105000</td>\n",
       "      <td>592.030000</td>\n",
       "      <td>239.170000</td>\n",
       "      <td>0.033160</td>\n",
       "      <td>0.000260</td>\n",
       "      <td>0.021440</td>\n",
       "      <td>0.019580</td>\n",
       "      <td>0.064330</td>\n",
       "      <td>0.119080</td>\n",
       "      <td>1.302000</td>\n",
       "      <td>...</td>\n",
       "      <td>0.169420</td>\n",
       "      <td>0.314820</td>\n",
       "      <td>33.047000</td>\n",
       "      <td>1.000000</td>\n",
       "      <td>0.685151</td>\n",
       "      <td>0.825288</td>\n",
       "      <td>-2.434031</td>\n",
       "      <td>0.450493</td>\n",
       "      <td>3.671155</td>\n",
       "      <td>0.527367</td>\n",
       "    </tr>\n",
       "  </tbody>\n",
       "</table>\n",
       "<p>8 rows × 23 columns</p>\n",
       "</div>"
      ],
      "text/plain": [
       "       MDVP:Fo(Hz)  MDVP:Fhi(Hz)  MDVP:Flo(Hz)  MDVP:Jitter(%)  \\\n",
       "count   195.000000    195.000000    195.000000      195.000000   \n",
       "mean    154.228641    197.104918    116.324631        0.006220   \n",
       "std      41.390065     91.491548     43.521413        0.004848   \n",
       "min      88.333000    102.145000     65.476000        0.001680   \n",
       "25%     117.572000    134.862500     84.291000        0.003460   \n",
       "50%     148.790000    175.829000    104.315000        0.004940   \n",
       "75%     182.769000    224.205500    140.018500        0.007365   \n",
       "max     260.105000    592.030000    239.170000        0.033160   \n",
       "\n",
       "       MDVP:Jitter(Abs)    MDVP:RAP    MDVP:PPQ  Jitter:DDP  MDVP:Shimmer  \\\n",
       "count        195.000000  195.000000  193.000000  194.000000    195.000000   \n",
       "mean           0.000044    0.003306    0.003468    0.009932      0.029709   \n",
       "std            0.000035    0.002968    0.002765    0.008925      0.018857   \n",
       "min            0.000007    0.000680    0.000920    0.002040      0.009540   \n",
       "25%            0.000020    0.001660    0.001880    0.004982      0.016505   \n",
       "50%            0.000030    0.002500    0.002700    0.007455      0.022970   \n",
       "75%            0.000060    0.003835    0.003960    0.011558      0.037885   \n",
       "max            0.000260    0.021440    0.019580    0.064330      0.119080   \n",
       "\n",
       "       MDVP:Shimmer(dB)  ...  Shimmer:DDA         NHR         HNR      status  \\\n",
       "count        195.000000  ...   195.000000  195.000000  195.000000  195.000000   \n",
       "mean           0.282251  ...     0.046993    0.024847   21.885974    0.753846   \n",
       "std            0.194877  ...     0.030459    0.040418    4.425764    0.431878   \n",
       "min            0.085000  ...     0.013640    0.000650    8.441000    0.000000   \n",
       "25%            0.148500  ...     0.024735    0.005925   19.198000    1.000000   \n",
       "50%            0.221000  ...     0.038360    0.011660   22.085000    1.000000   \n",
       "75%            0.350000  ...     0.060795    0.025640   25.075500    1.000000   \n",
       "max            1.302000  ...     0.169420    0.314820   33.047000    1.000000   \n",
       "\n",
       "             RPDE         DFA     spread1     spread2          D2         PPE  \n",
       "count  195.000000  195.000000  195.000000  195.000000  195.000000  195.000000  \n",
       "mean     0.498536    0.718099   -5.684397    0.226510    2.381826    0.206552  \n",
       "std      0.103942    0.055336    1.090208    0.083406    0.382799    0.090119  \n",
       "min      0.256570    0.574282   -7.964984    0.006274    1.423287    0.044539  \n",
       "25%      0.421306    0.674758   -6.450096    0.174351    2.099125    0.137451  \n",
       "50%      0.495954    0.722254   -5.720868    0.218885    2.361532    0.194052  \n",
       "75%      0.587562    0.761881   -5.046192    0.279234    2.636456    0.252980  \n",
       "max      0.685151    0.825288   -2.434031    0.450493    3.671155    0.527367  \n",
       "\n",
       "[8 rows x 23 columns]"
      ]
     },
     "execution_count": 4,
     "metadata": {},
     "output_type": "execute_result"
    }
   ],
   "source": [
    "df.describe()\n",
    "#We see that mean and median of all columns are aroung the same range."
   ]
  },
  {
   "cell_type": "code",
   "execution_count": 5,
   "id": "b0b1fe1c",
   "metadata": {},
   "outputs": [
    {
     "data": {
      "text/plain": [
       "MDVP:Fo(Hz)         0.000000\n",
       "MDVP:Fhi(Hz)        0.000000\n",
       "MDVP:Flo(Hz)        0.000000\n",
       "MDVP:Jitter(%)      0.000000\n",
       "MDVP:Jitter(Abs)    0.000000\n",
       "MDVP:RAP            0.000000\n",
       "MDVP:PPQ            0.010256\n",
       "Jitter:DDP          0.005128\n",
       "MDVP:Shimmer        0.000000\n",
       "MDVP:Shimmer(dB)    0.000000\n",
       "Shimmer:APQ3        0.000000\n",
       "Shimmer:APQ5        0.000000\n",
       "MDVP:APQ            0.000000\n",
       "Shimmer:DDA         0.000000\n",
       "NHR                 0.000000\n",
       "HNR                 0.000000\n",
       "status              0.000000\n",
       "RPDE                0.000000\n",
       "DFA                 0.000000\n",
       "spread1             0.000000\n",
       "spread2             0.000000\n",
       "D2                  0.000000\n",
       "PPE                 0.000000\n",
       "dtype: float64"
      ]
     },
     "execution_count": 5,
     "metadata": {},
     "output_type": "execute_result"
    }
   ],
   "source": [
    "df.isna().mean()"
   ]
  },
  {
   "cell_type": "code",
   "execution_count": 6,
   "id": "8533695e",
   "metadata": {},
   "outputs": [],
   "source": [
    "df=df.dropna()"
   ]
  },
  {
   "cell_type": "code",
   "execution_count": 7,
   "id": "2e14d1b2",
   "metadata": {},
   "outputs": [
    {
     "data": {
      "text/html": [
       "<div>\n",
       "<style scoped>\n",
       "    .dataframe tbody tr th:only-of-type {\n",
       "        vertical-align: middle;\n",
       "    }\n",
       "\n",
       "    .dataframe tbody tr th {\n",
       "        vertical-align: top;\n",
       "    }\n",
       "\n",
       "    .dataframe thead th {\n",
       "        text-align: right;\n",
       "    }\n",
       "</style>\n",
       "<table border=\"1\" class=\"dataframe\">\n",
       "  <thead>\n",
       "    <tr style=\"text-align: right;\">\n",
       "      <th></th>\n",
       "      <th>MDVP:Fo(Hz)</th>\n",
       "      <th>MDVP:Fhi(Hz)</th>\n",
       "      <th>MDVP:Flo(Hz)</th>\n",
       "      <th>MDVP:Jitter(%)</th>\n",
       "      <th>MDVP:Jitter(Abs)</th>\n",
       "      <th>MDVP:RAP</th>\n",
       "      <th>MDVP:PPQ</th>\n",
       "      <th>Jitter:DDP</th>\n",
       "      <th>MDVP:Shimmer</th>\n",
       "      <th>MDVP:Shimmer(dB)</th>\n",
       "      <th>...</th>\n",
       "      <th>MDVP:APQ</th>\n",
       "      <th>Shimmer:DDA</th>\n",
       "      <th>NHR</th>\n",
       "      <th>HNR</th>\n",
       "      <th>RPDE</th>\n",
       "      <th>DFA</th>\n",
       "      <th>spread1</th>\n",
       "      <th>spread2</th>\n",
       "      <th>D2</th>\n",
       "      <th>PPE</th>\n",
       "    </tr>\n",
       "  </thead>\n",
       "  <tbody>\n",
       "    <tr>\n",
       "      <th>MDVP:Fo(Hz)</th>\n",
       "      <td>1.000000</td>\n",
       "      <td>0.400327</td>\n",
       "      <td>0.602803</td>\n",
       "      <td>-0.106765</td>\n",
       "      <td>-0.373000</td>\n",
       "      <td>-0.066314</td>\n",
       "      <td>-0.101633</td>\n",
       "      <td>-0.066332</td>\n",
       "      <td>-0.087435</td>\n",
       "      <td>-0.062556</td>\n",
       "      <td>...</td>\n",
       "      <td>-0.066798</td>\n",
       "      <td>-0.083763</td>\n",
       "      <td>-0.013346</td>\n",
       "      <td>0.041347</td>\n",
       "      <td>-0.371439</td>\n",
       "      <td>-0.448063</td>\n",
       "      <td>-0.400615</td>\n",
       "      <td>-0.228277</td>\n",
       "      <td>0.201440</td>\n",
       "      <td>-0.359729</td>\n",
       "    </tr>\n",
       "    <tr>\n",
       "      <th>MDVP:Fhi(Hz)</th>\n",
       "      <td>0.400327</td>\n",
       "      <td>1.000000</td>\n",
       "      <td>0.084839</td>\n",
       "      <td>0.105580</td>\n",
       "      <td>-0.025727</td>\n",
       "      <td>0.100042</td>\n",
       "      <td>0.094352</td>\n",
       "      <td>0.100015</td>\n",
       "      <td>0.005164</td>\n",
       "      <td>0.046498</td>\n",
       "      <td>...</td>\n",
       "      <td>0.007741</td>\n",
       "      <td>-0.000869</td>\n",
       "      <td>0.166263</td>\n",
       "      <td>-0.029451</td>\n",
       "      <td>-0.108345</td>\n",
       "      <td>-0.342681</td>\n",
       "      <td>-0.072252</td>\n",
       "      <td>0.004140</td>\n",
       "      <td>0.182949</td>\n",
       "      <td>-0.065420</td>\n",
       "    </tr>\n",
       "    <tr>\n",
       "      <th>MDVP:Flo(Hz)</th>\n",
       "      <td>0.602803</td>\n",
       "      <td>0.084839</td>\n",
       "      <td>1.000000</td>\n",
       "      <td>-0.136072</td>\n",
       "      <td>-0.275528</td>\n",
       "      <td>-0.096635</td>\n",
       "      <td>-0.092359</td>\n",
       "      <td>-0.096603</td>\n",
       "      <td>-0.141103</td>\n",
       "      <td>-0.115316</td>\n",
       "      <td>...</td>\n",
       "      <td>-0.102637</td>\n",
       "      <td>-0.148017</td>\n",
       "      <td>-0.106473</td>\n",
       "      <td>0.201967</td>\n",
       "      <td>-0.410294</td>\n",
       "      <td>-0.054428</td>\n",
       "      <td>-0.394259</td>\n",
       "      <td>-0.246411</td>\n",
       "      <td>-0.079596</td>\n",
       "      <td>-0.339180</td>\n",
       "    </tr>\n",
       "    <tr>\n",
       "      <th>MDVP:Jitter(%)</th>\n",
       "      <td>-0.106765</td>\n",
       "      <td>0.105580</td>\n",
       "      <td>-0.136072</td>\n",
       "      <td>1.000000</td>\n",
       "      <td>0.935258</td>\n",
       "      <td>0.990308</td>\n",
       "      <td>0.974104</td>\n",
       "      <td>0.990309</td>\n",
       "      <td>0.767399</td>\n",
       "      <td>0.802896</td>\n",
       "      <td>...</td>\n",
       "      <td>0.756514</td>\n",
       "      <td>0.744918</td>\n",
       "      <td>0.906811</td>\n",
       "      <td>-0.727884</td>\n",
       "      <td>0.355399</td>\n",
       "      <td>0.098116</td>\n",
       "      <td>0.690928</td>\n",
       "      <td>0.380236</td>\n",
       "      <td>0.429830</td>\n",
       "      <td>0.719109</td>\n",
       "    </tr>\n",
       "    <tr>\n",
       "      <th>MDVP:Jitter(Abs)</th>\n",
       "      <td>-0.373000</td>\n",
       "      <td>-0.025727</td>\n",
       "      <td>-0.275528</td>\n",
       "      <td>0.935258</td>\n",
       "      <td>1.000000</td>\n",
       "      <td>0.922751</td>\n",
       "      <td>0.897142</td>\n",
       "      <td>0.922752</td>\n",
       "      <td>0.700846</td>\n",
       "      <td>0.714286</td>\n",
       "      <td>...</td>\n",
       "      <td>0.645927</td>\n",
       "      <td>0.694730</td>\n",
       "      <td>0.834742</td>\n",
       "      <td>-0.654049</td>\n",
       "      <td>0.436213</td>\n",
       "      <td>0.174904</td>\n",
       "      <td>0.732451</td>\n",
       "      <td>0.381336</td>\n",
       "      <td>0.303092</td>\n",
       "      <td>0.744991</td>\n",
       "    </tr>\n",
       "    <tr>\n",
       "      <th>MDVP:RAP</th>\n",
       "      <td>-0.066314</td>\n",
       "      <td>0.100042</td>\n",
       "      <td>-0.096635</td>\n",
       "      <td>0.990308</td>\n",
       "      <td>0.922751</td>\n",
       "      <td>1.000000</td>\n",
       "      <td>0.957121</td>\n",
       "      <td>1.000000</td>\n",
       "      <td>0.758212</td>\n",
       "      <td>0.789464</td>\n",
       "      <td>...</td>\n",
       "      <td>0.735876</td>\n",
       "      <td>0.743606</td>\n",
       "      <td>0.919274</td>\n",
       "      <td>-0.722339</td>\n",
       "      <td>0.338044</td>\n",
       "      <td>0.063601</td>\n",
       "      <td>0.646316</td>\n",
       "      <td>0.320029</td>\n",
       "      <td>0.424047</td>\n",
       "      <td>0.669057</td>\n",
       "    </tr>\n",
       "    <tr>\n",
       "      <th>MDVP:PPQ</th>\n",
       "      <td>-0.101633</td>\n",
       "      <td>0.094352</td>\n",
       "      <td>-0.092359</td>\n",
       "      <td>0.974104</td>\n",
       "      <td>0.897142</td>\n",
       "      <td>0.957121</td>\n",
       "      <td>1.000000</td>\n",
       "      <td>0.957123</td>\n",
       "      <td>0.796449</td>\n",
       "      <td>0.838157</td>\n",
       "      <td>...</td>\n",
       "      <td>0.802846</td>\n",
       "      <td>0.762046</td>\n",
       "      <td>0.844012</td>\n",
       "      <td>-0.731760</td>\n",
       "      <td>0.327855</td>\n",
       "      <td>0.196297</td>\n",
       "      <td>0.714687</td>\n",
       "      <td>0.404053</td>\n",
       "      <td>0.409698</td>\n",
       "      <td>0.768204</td>\n",
       "    </tr>\n",
       "    <tr>\n",
       "      <th>Jitter:DDP</th>\n",
       "      <td>-0.066332</td>\n",
       "      <td>0.100015</td>\n",
       "      <td>-0.096603</td>\n",
       "      <td>0.990309</td>\n",
       "      <td>0.922752</td>\n",
       "      <td>1.000000</td>\n",
       "      <td>0.957123</td>\n",
       "      <td>1.000000</td>\n",
       "      <td>0.758186</td>\n",
       "      <td>0.789433</td>\n",
       "      <td>...</td>\n",
       "      <td>0.735859</td>\n",
       "      <td>0.743587</td>\n",
       "      <td>0.919301</td>\n",
       "      <td>-0.722288</td>\n",
       "      <td>0.337982</td>\n",
       "      <td>0.063544</td>\n",
       "      <td>0.646315</td>\n",
       "      <td>0.319997</td>\n",
       "      <td>0.423996</td>\n",
       "      <td>0.669063</td>\n",
       "    </tr>\n",
       "    <tr>\n",
       "      <th>MDVP:Shimmer</th>\n",
       "      <td>-0.087435</td>\n",
       "      <td>0.005164</td>\n",
       "      <td>-0.141103</td>\n",
       "      <td>0.767399</td>\n",
       "      <td>0.700846</td>\n",
       "      <td>0.758212</td>\n",
       "      <td>0.796449</td>\n",
       "      <td>0.758186</td>\n",
       "      <td>1.000000</td>\n",
       "      <td>0.987164</td>\n",
       "      <td>...</td>\n",
       "      <td>0.949841</td>\n",
       "      <td>0.987572</td>\n",
       "      <td>0.720967</td>\n",
       "      <td>-0.835952</td>\n",
       "      <td>0.444032</td>\n",
       "      <td>0.160499</td>\n",
       "      <td>0.651883</td>\n",
       "      <td>0.450566</td>\n",
       "      <td>0.505347</td>\n",
       "      <td>0.690998</td>\n",
       "    </tr>\n",
       "    <tr>\n",
       "      <th>MDVP:Shimmer(dB)</th>\n",
       "      <td>-0.062556</td>\n",
       "      <td>0.046498</td>\n",
       "      <td>-0.115316</td>\n",
       "      <td>0.802896</td>\n",
       "      <td>0.714286</td>\n",
       "      <td>0.789464</td>\n",
       "      <td>0.838157</td>\n",
       "      <td>0.789433</td>\n",
       "      <td>0.987164</td>\n",
       "      <td>1.000000</td>\n",
       "      <td>...</td>\n",
       "      <td>0.960779</td>\n",
       "      <td>0.962987</td>\n",
       "      <td>0.743362</td>\n",
       "      <td>-0.828633</td>\n",
       "      <td>0.406784</td>\n",
       "      <td>0.165608</td>\n",
       "      <td>0.649745</td>\n",
       "      <td>0.452798</td>\n",
       "      <td>0.510674</td>\n",
       "      <td>0.692418</td>\n",
       "    </tr>\n",
       "    <tr>\n",
       "      <th>Shimmer:APQ3</th>\n",
       "      <td>-0.083748</td>\n",
       "      <td>-0.000879</td>\n",
       "      <td>-0.148028</td>\n",
       "      <td>0.744907</td>\n",
       "      <td>0.694713</td>\n",
       "      <td>0.743598</td>\n",
       "      <td>0.762033</td>\n",
       "      <td>0.743579</td>\n",
       "      <td>0.987572</td>\n",
       "      <td>0.962983</td>\n",
       "      <td>...</td>\n",
       "      <td>0.896179</td>\n",
       "      <td>1.000000</td>\n",
       "      <td>0.715017</td>\n",
       "      <td>-0.827330</td>\n",
       "      <td>0.431596</td>\n",
       "      <td>0.151840</td>\n",
       "      <td>0.607574</td>\n",
       "      <td>0.400194</td>\n",
       "      <td>0.465317</td>\n",
       "      <td>0.641892</td>\n",
       "    </tr>\n",
       "    <tr>\n",
       "      <th>Shimmer:APQ5</th>\n",
       "      <td>-0.061097</td>\n",
       "      <td>-0.007597</td>\n",
       "      <td>-0.097769</td>\n",
       "      <td>0.723923</td>\n",
       "      <td>0.646612</td>\n",
       "      <td>0.708445</td>\n",
       "      <td>0.785559</td>\n",
       "      <td>0.708424</td>\n",
       "      <td>0.982786</td>\n",
       "      <td>0.973634</td>\n",
       "      <td>...</td>\n",
       "      <td>0.948999</td>\n",
       "      <td>0.959891</td>\n",
       "      <td>0.656570</td>\n",
       "      <td>-0.814920</td>\n",
       "      <td>0.396942</td>\n",
       "      <td>0.214747</td>\n",
       "      <td>0.645012</td>\n",
       "      <td>0.457585</td>\n",
       "      <td>0.501556</td>\n",
       "      <td>0.700765</td>\n",
       "    </tr>\n",
       "    <tr>\n",
       "      <th>MDVP:APQ</th>\n",
       "      <td>-0.066798</td>\n",
       "      <td>0.007741</td>\n",
       "      <td>-0.102637</td>\n",
       "      <td>0.756514</td>\n",
       "      <td>0.645927</td>\n",
       "      <td>0.735876</td>\n",
       "      <td>0.802846</td>\n",
       "      <td>0.735859</td>\n",
       "      <td>0.949841</td>\n",
       "      <td>0.960779</td>\n",
       "      <td>...</td>\n",
       "      <td>1.000000</td>\n",
       "      <td>0.896181</td>\n",
       "      <td>0.692664</td>\n",
       "      <td>-0.801422</td>\n",
       "      <td>0.448348</td>\n",
       "      <td>0.157430</td>\n",
       "      <td>0.670719</td>\n",
       "      <td>0.501220</td>\n",
       "      <td>0.535212</td>\n",
       "      <td>0.719671</td>\n",
       "    </tr>\n",
       "    <tr>\n",
       "      <th>Shimmer:DDA</th>\n",
       "      <td>-0.083763</td>\n",
       "      <td>-0.000869</td>\n",
       "      <td>-0.148017</td>\n",
       "      <td>0.744918</td>\n",
       "      <td>0.694730</td>\n",
       "      <td>0.743606</td>\n",
       "      <td>0.762046</td>\n",
       "      <td>0.743587</td>\n",
       "      <td>0.987572</td>\n",
       "      <td>0.962987</td>\n",
       "      <td>...</td>\n",
       "      <td>0.896181</td>\n",
       "      <td>1.000000</td>\n",
       "      <td>0.715025</td>\n",
       "      <td>-0.827334</td>\n",
       "      <td>0.431593</td>\n",
       "      <td>0.151850</td>\n",
       "      <td>0.607578</td>\n",
       "      <td>0.400178</td>\n",
       "      <td>0.465312</td>\n",
       "      <td>0.641904</td>\n",
       "    </tr>\n",
       "    <tr>\n",
       "      <th>NHR</th>\n",
       "      <td>-0.013346</td>\n",
       "      <td>0.166263</td>\n",
       "      <td>-0.106473</td>\n",
       "      <td>0.906811</td>\n",
       "      <td>0.834742</td>\n",
       "      <td>0.919274</td>\n",
       "      <td>0.844012</td>\n",
       "      <td>0.919301</td>\n",
       "      <td>0.720967</td>\n",
       "      <td>0.743362</td>\n",
       "      <td>...</td>\n",
       "      <td>0.692664</td>\n",
       "      <td>0.715025</td>\n",
       "      <td>1.000000</td>\n",
       "      <td>-0.715837</td>\n",
       "      <td>0.368259</td>\n",
       "      <td>-0.132850</td>\n",
       "      <td>0.538909</td>\n",
       "      <td>0.315831</td>\n",
       "      <td>0.471325</td>\n",
       "      <td>0.550427</td>\n",
       "    </tr>\n",
       "    <tr>\n",
       "      <th>HNR</th>\n",
       "      <td>0.041347</td>\n",
       "      <td>-0.029451</td>\n",
       "      <td>0.201967</td>\n",
       "      <td>-0.727884</td>\n",
       "      <td>-0.654049</td>\n",
       "      <td>-0.722339</td>\n",
       "      <td>-0.731760</td>\n",
       "      <td>-0.722288</td>\n",
       "      <td>-0.835952</td>\n",
       "      <td>-0.828633</td>\n",
       "      <td>...</td>\n",
       "      <td>-0.801422</td>\n",
       "      <td>-0.827334</td>\n",
       "      <td>-0.715837</td>\n",
       "      <td>1.000000</td>\n",
       "      <td>-0.600515</td>\n",
       "      <td>-0.010869</td>\n",
       "      <td>-0.669196</td>\n",
       "      <td>-0.430786</td>\n",
       "      <td>-0.595321</td>\n",
       "      <td>-0.688676</td>\n",
       "    </tr>\n",
       "    <tr>\n",
       "      <th>RPDE</th>\n",
       "      <td>-0.371439</td>\n",
       "      <td>-0.108345</td>\n",
       "      <td>-0.410294</td>\n",
       "      <td>0.355399</td>\n",
       "      <td>0.436213</td>\n",
       "      <td>0.338044</td>\n",
       "      <td>0.327855</td>\n",
       "      <td>0.337982</td>\n",
       "      <td>0.444032</td>\n",
       "      <td>0.406784</td>\n",
       "      <td>...</td>\n",
       "      <td>0.448348</td>\n",
       "      <td>0.431593</td>\n",
       "      <td>0.368259</td>\n",
       "      <td>-0.600515</td>\n",
       "      <td>1.000000</td>\n",
       "      <td>-0.117896</td>\n",
       "      <td>0.585191</td>\n",
       "      <td>0.467334</td>\n",
       "      <td>0.234777</td>\n",
       "      <td>0.539678</td>\n",
       "    </tr>\n",
       "    <tr>\n",
       "      <th>DFA</th>\n",
       "      <td>-0.448063</td>\n",
       "      <td>-0.342681</td>\n",
       "      <td>-0.054428</td>\n",
       "      <td>0.098116</td>\n",
       "      <td>0.174904</td>\n",
       "      <td>0.063601</td>\n",
       "      <td>0.196297</td>\n",
       "      <td>0.063544</td>\n",
       "      <td>0.160499</td>\n",
       "      <td>0.165608</td>\n",
       "      <td>...</td>\n",
       "      <td>0.157430</td>\n",
       "      <td>0.151850</td>\n",
       "      <td>-0.132850</td>\n",
       "      <td>-0.010869</td>\n",
       "      <td>-0.117896</td>\n",
       "      <td>1.000000</td>\n",
       "      <td>0.195518</td>\n",
       "      <td>0.162144</td>\n",
       "      <td>-0.166319</td>\n",
       "      <td>0.271564</td>\n",
       "    </tr>\n",
       "    <tr>\n",
       "      <th>spread1</th>\n",
       "      <td>-0.400615</td>\n",
       "      <td>-0.072252</td>\n",
       "      <td>-0.394259</td>\n",
       "      <td>0.690928</td>\n",
       "      <td>0.732451</td>\n",
       "      <td>0.646316</td>\n",
       "      <td>0.714687</td>\n",
       "      <td>0.646315</td>\n",
       "      <td>0.651883</td>\n",
       "      <td>0.649745</td>\n",
       "      <td>...</td>\n",
       "      <td>0.670719</td>\n",
       "      <td>0.607578</td>\n",
       "      <td>0.538909</td>\n",
       "      <td>-0.669196</td>\n",
       "      <td>0.585191</td>\n",
       "      <td>0.195518</td>\n",
       "      <td>1.000000</td>\n",
       "      <td>0.646920</td>\n",
       "      <td>0.488723</td>\n",
       "      <td>0.961909</td>\n",
       "    </tr>\n",
       "    <tr>\n",
       "      <th>spread2</th>\n",
       "      <td>-0.228277</td>\n",
       "      <td>0.004140</td>\n",
       "      <td>-0.246411</td>\n",
       "      <td>0.380236</td>\n",
       "      <td>0.381336</td>\n",
       "      <td>0.320029</td>\n",
       "      <td>0.404053</td>\n",
       "      <td>0.319997</td>\n",
       "      <td>0.450566</td>\n",
       "      <td>0.452798</td>\n",
       "      <td>...</td>\n",
       "      <td>0.501220</td>\n",
       "      <td>0.400178</td>\n",
       "      <td>0.315831</td>\n",
       "      <td>-0.430786</td>\n",
       "      <td>0.467334</td>\n",
       "      <td>0.162144</td>\n",
       "      <td>0.646920</td>\n",
       "      <td>1.000000</td>\n",
       "      <td>0.524845</td>\n",
       "      <td>0.641415</td>\n",
       "    </tr>\n",
       "    <tr>\n",
       "      <th>D2</th>\n",
       "      <td>0.201440</td>\n",
       "      <td>0.182949</td>\n",
       "      <td>-0.079596</td>\n",
       "      <td>0.429830</td>\n",
       "      <td>0.303092</td>\n",
       "      <td>0.424047</td>\n",
       "      <td>0.409698</td>\n",
       "      <td>0.423996</td>\n",
       "      <td>0.505347</td>\n",
       "      <td>0.510674</td>\n",
       "      <td>...</td>\n",
       "      <td>0.535212</td>\n",
       "      <td>0.465312</td>\n",
       "      <td>0.471325</td>\n",
       "      <td>-0.595321</td>\n",
       "      <td>0.234777</td>\n",
       "      <td>-0.166319</td>\n",
       "      <td>0.488723</td>\n",
       "      <td>0.524845</td>\n",
       "      <td>1.000000</td>\n",
       "      <td>0.475093</td>\n",
       "    </tr>\n",
       "    <tr>\n",
       "      <th>PPE</th>\n",
       "      <td>-0.359729</td>\n",
       "      <td>-0.065420</td>\n",
       "      <td>-0.339180</td>\n",
       "      <td>0.719109</td>\n",
       "      <td>0.744991</td>\n",
       "      <td>0.669057</td>\n",
       "      <td>0.768204</td>\n",
       "      <td>0.669063</td>\n",
       "      <td>0.690998</td>\n",
       "      <td>0.692418</td>\n",
       "      <td>...</td>\n",
       "      <td>0.719671</td>\n",
       "      <td>0.641904</td>\n",
       "      <td>0.550427</td>\n",
       "      <td>-0.688676</td>\n",
       "      <td>0.539678</td>\n",
       "      <td>0.271564</td>\n",
       "      <td>0.961909</td>\n",
       "      <td>0.641415</td>\n",
       "      <td>0.475093</td>\n",
       "      <td>1.000000</td>\n",
       "    </tr>\n",
       "  </tbody>\n",
       "</table>\n",
       "<p>22 rows × 22 columns</p>\n",
       "</div>"
      ],
      "text/plain": [
       "                  MDVP:Fo(Hz)  MDVP:Fhi(Hz)  MDVP:Flo(Hz)  MDVP:Jitter(%)  \\\n",
       "MDVP:Fo(Hz)          1.000000      0.400327      0.602803       -0.106765   \n",
       "MDVP:Fhi(Hz)         0.400327      1.000000      0.084839        0.105580   \n",
       "MDVP:Flo(Hz)         0.602803      0.084839      1.000000       -0.136072   \n",
       "MDVP:Jitter(%)      -0.106765      0.105580     -0.136072        1.000000   \n",
       "MDVP:Jitter(Abs)    -0.373000     -0.025727     -0.275528        0.935258   \n",
       "MDVP:RAP            -0.066314      0.100042     -0.096635        0.990308   \n",
       "MDVP:PPQ            -0.101633      0.094352     -0.092359        0.974104   \n",
       "Jitter:DDP          -0.066332      0.100015     -0.096603        0.990309   \n",
       "MDVP:Shimmer        -0.087435      0.005164     -0.141103        0.767399   \n",
       "MDVP:Shimmer(dB)    -0.062556      0.046498     -0.115316        0.802896   \n",
       "Shimmer:APQ3        -0.083748     -0.000879     -0.148028        0.744907   \n",
       "Shimmer:APQ5        -0.061097     -0.007597     -0.097769        0.723923   \n",
       "MDVP:APQ            -0.066798      0.007741     -0.102637        0.756514   \n",
       "Shimmer:DDA         -0.083763     -0.000869     -0.148017        0.744918   \n",
       "NHR                 -0.013346      0.166263     -0.106473        0.906811   \n",
       "HNR                  0.041347     -0.029451      0.201967       -0.727884   \n",
       "RPDE                -0.371439     -0.108345     -0.410294        0.355399   \n",
       "DFA                 -0.448063     -0.342681     -0.054428        0.098116   \n",
       "spread1             -0.400615     -0.072252     -0.394259        0.690928   \n",
       "spread2             -0.228277      0.004140     -0.246411        0.380236   \n",
       "D2                   0.201440      0.182949     -0.079596        0.429830   \n",
       "PPE                 -0.359729     -0.065420     -0.339180        0.719109   \n",
       "\n",
       "                  MDVP:Jitter(Abs)  MDVP:RAP  MDVP:PPQ  Jitter:DDP  \\\n",
       "MDVP:Fo(Hz)              -0.373000 -0.066314 -0.101633   -0.066332   \n",
       "MDVP:Fhi(Hz)             -0.025727  0.100042  0.094352    0.100015   \n",
       "MDVP:Flo(Hz)             -0.275528 -0.096635 -0.092359   -0.096603   \n",
       "MDVP:Jitter(%)            0.935258  0.990308  0.974104    0.990309   \n",
       "MDVP:Jitter(Abs)          1.000000  0.922751  0.897142    0.922752   \n",
       "MDVP:RAP                  0.922751  1.000000  0.957121    1.000000   \n",
       "MDVP:PPQ                  0.897142  0.957121  1.000000    0.957123   \n",
       "Jitter:DDP                0.922752  1.000000  0.957123    1.000000   \n",
       "MDVP:Shimmer              0.700846  0.758212  0.796449    0.758186   \n",
       "MDVP:Shimmer(dB)          0.714286  0.789464  0.838157    0.789433   \n",
       "Shimmer:APQ3              0.694713  0.743598  0.762033    0.743579   \n",
       "Shimmer:APQ5              0.646612  0.708445  0.785559    0.708424   \n",
       "MDVP:APQ                  0.645927  0.735876  0.802846    0.735859   \n",
       "Shimmer:DDA               0.694730  0.743606  0.762046    0.743587   \n",
       "NHR                       0.834742  0.919274  0.844012    0.919301   \n",
       "HNR                      -0.654049 -0.722339 -0.731760   -0.722288   \n",
       "RPDE                      0.436213  0.338044  0.327855    0.337982   \n",
       "DFA                       0.174904  0.063601  0.196297    0.063544   \n",
       "spread1                   0.732451  0.646316  0.714687    0.646315   \n",
       "spread2                   0.381336  0.320029  0.404053    0.319997   \n",
       "D2                        0.303092  0.424047  0.409698    0.423996   \n",
       "PPE                       0.744991  0.669057  0.768204    0.669063   \n",
       "\n",
       "                  MDVP:Shimmer  MDVP:Shimmer(dB)  ...  MDVP:APQ  Shimmer:DDA  \\\n",
       "MDVP:Fo(Hz)          -0.087435         -0.062556  ... -0.066798    -0.083763   \n",
       "MDVP:Fhi(Hz)          0.005164          0.046498  ...  0.007741    -0.000869   \n",
       "MDVP:Flo(Hz)         -0.141103         -0.115316  ... -0.102637    -0.148017   \n",
       "MDVP:Jitter(%)        0.767399          0.802896  ...  0.756514     0.744918   \n",
       "MDVP:Jitter(Abs)      0.700846          0.714286  ...  0.645927     0.694730   \n",
       "MDVP:RAP              0.758212          0.789464  ...  0.735876     0.743606   \n",
       "MDVP:PPQ              0.796449          0.838157  ...  0.802846     0.762046   \n",
       "Jitter:DDP            0.758186          0.789433  ...  0.735859     0.743587   \n",
       "MDVP:Shimmer          1.000000          0.987164  ...  0.949841     0.987572   \n",
       "MDVP:Shimmer(dB)      0.987164          1.000000  ...  0.960779     0.962987   \n",
       "Shimmer:APQ3          0.987572          0.962983  ...  0.896179     1.000000   \n",
       "Shimmer:APQ5          0.982786          0.973634  ...  0.948999     0.959891   \n",
       "MDVP:APQ              0.949841          0.960779  ...  1.000000     0.896181   \n",
       "Shimmer:DDA           0.987572          0.962987  ...  0.896181     1.000000   \n",
       "NHR                   0.720967          0.743362  ...  0.692664     0.715025   \n",
       "HNR                  -0.835952         -0.828633  ... -0.801422    -0.827334   \n",
       "RPDE                  0.444032          0.406784  ...  0.448348     0.431593   \n",
       "DFA                   0.160499          0.165608  ...  0.157430     0.151850   \n",
       "spread1               0.651883          0.649745  ...  0.670719     0.607578   \n",
       "spread2               0.450566          0.452798  ...  0.501220     0.400178   \n",
       "D2                    0.505347          0.510674  ...  0.535212     0.465312   \n",
       "PPE                   0.690998          0.692418  ...  0.719671     0.641904   \n",
       "\n",
       "                       NHR       HNR      RPDE       DFA   spread1   spread2  \\\n",
       "MDVP:Fo(Hz)      -0.013346  0.041347 -0.371439 -0.448063 -0.400615 -0.228277   \n",
       "MDVP:Fhi(Hz)      0.166263 -0.029451 -0.108345 -0.342681 -0.072252  0.004140   \n",
       "MDVP:Flo(Hz)     -0.106473  0.201967 -0.410294 -0.054428 -0.394259 -0.246411   \n",
       "MDVP:Jitter(%)    0.906811 -0.727884  0.355399  0.098116  0.690928  0.380236   \n",
       "MDVP:Jitter(Abs)  0.834742 -0.654049  0.436213  0.174904  0.732451  0.381336   \n",
       "MDVP:RAP          0.919274 -0.722339  0.338044  0.063601  0.646316  0.320029   \n",
       "MDVP:PPQ          0.844012 -0.731760  0.327855  0.196297  0.714687  0.404053   \n",
       "Jitter:DDP        0.919301 -0.722288  0.337982  0.063544  0.646315  0.319997   \n",
       "MDVP:Shimmer      0.720967 -0.835952  0.444032  0.160499  0.651883  0.450566   \n",
       "MDVP:Shimmer(dB)  0.743362 -0.828633  0.406784  0.165608  0.649745  0.452798   \n",
       "Shimmer:APQ3      0.715017 -0.827330  0.431596  0.151840  0.607574  0.400194   \n",
       "Shimmer:APQ5      0.656570 -0.814920  0.396942  0.214747  0.645012  0.457585   \n",
       "MDVP:APQ          0.692664 -0.801422  0.448348  0.157430  0.670719  0.501220   \n",
       "Shimmer:DDA       0.715025 -0.827334  0.431593  0.151850  0.607578  0.400178   \n",
       "NHR               1.000000 -0.715837  0.368259 -0.132850  0.538909  0.315831   \n",
       "HNR              -0.715837  1.000000 -0.600515 -0.010869 -0.669196 -0.430786   \n",
       "RPDE              0.368259 -0.600515  1.000000 -0.117896  0.585191  0.467334   \n",
       "DFA              -0.132850 -0.010869 -0.117896  1.000000  0.195518  0.162144   \n",
       "spread1           0.538909 -0.669196  0.585191  0.195518  1.000000  0.646920   \n",
       "spread2           0.315831 -0.430786  0.467334  0.162144  0.646920  1.000000   \n",
       "D2                0.471325 -0.595321  0.234777 -0.166319  0.488723  0.524845   \n",
       "PPE               0.550427 -0.688676  0.539678  0.271564  0.961909  0.641415   \n",
       "\n",
       "                        D2       PPE  \n",
       "MDVP:Fo(Hz)       0.201440 -0.359729  \n",
       "MDVP:Fhi(Hz)      0.182949 -0.065420  \n",
       "MDVP:Flo(Hz)     -0.079596 -0.339180  \n",
       "MDVP:Jitter(%)    0.429830  0.719109  \n",
       "MDVP:Jitter(Abs)  0.303092  0.744991  \n",
       "MDVP:RAP          0.424047  0.669057  \n",
       "MDVP:PPQ          0.409698  0.768204  \n",
       "Jitter:DDP        0.423996  0.669063  \n",
       "MDVP:Shimmer      0.505347  0.690998  \n",
       "MDVP:Shimmer(dB)  0.510674  0.692418  \n",
       "Shimmer:APQ3      0.465317  0.641892  \n",
       "Shimmer:APQ5      0.501556  0.700765  \n",
       "MDVP:APQ          0.535212  0.719671  \n",
       "Shimmer:DDA       0.465312  0.641904  \n",
       "NHR               0.471325  0.550427  \n",
       "HNR              -0.595321 -0.688676  \n",
       "RPDE              0.234777  0.539678  \n",
       "DFA              -0.166319  0.271564  \n",
       "spread1           0.488723  0.961909  \n",
       "spread2           0.524845  0.641415  \n",
       "D2                1.000000  0.475093  \n",
       "PPE               0.475093  1.000000  \n",
       "\n",
       "[22 rows x 22 columns]"
      ]
     },
     "execution_count": 7,
     "metadata": {},
     "output_type": "execute_result"
    }
   ],
   "source": [
    "df.drop('status',axis=1).corr()"
   ]
  },
  {
   "cell_type": "code",
   "execution_count": 8,
   "id": "3312570c",
   "metadata": {},
   "outputs": [
    {
     "data": {
      "image/png": "[encoded data removed]",
      "text/plain": [
       "<Figure size 432x288 with 1 Axes>"
      ]
     },
     "metadata": {
      "needs_background": "light"
     },
     "output_type": "display_data"
    }
   ],
   "source": [
    "#chech whether data s balanced or not\n",
    "df['status'].value_counts(normalize=True).plot(kind='bar');\n",
    "#we see that "
   ]
  },
  {
   "cell_type": "code",
   "execution_count": 9,
   "id": "05b90777",
   "metadata": {},
   "outputs": [
    {
     "data": {
      "text/plain": [
       "Index(['MDVP:Fo(Hz)', 'MDVP:Fhi(Hz)', 'MDVP:Flo(Hz)', 'MDVP:Jitter(%)',\n",
       "       'MDVP:Jitter(Abs)', 'MDVP:RAP', 'MDVP:PPQ', 'Jitter:DDP',\n",
       "       'MDVP:Shimmer', 'MDVP:Shimmer(dB)', 'Shimmer:APQ3', 'Shimmer:APQ5',\n",
       "       'MDVP:APQ', 'Shimmer:DDA', 'NHR', 'HNR', 'status', 'RPDE', 'DFA',\n",
       "       'spread1', 'spread2', 'D2', 'PPE'],\n",
       "      dtype='object')"
      ]
     },
     "execution_count": 9,
     "metadata": {},
     "output_type": "execute_result"
    }
   ],
   "source": [
    "df.columns"
   ]
  },
  {
   "cell_type": "code",
   "execution_count": 10,
   "id": "2dedc919",
   "metadata": {},
   "outputs": [],
   "source": [
    "#target and feature data segregation\n",
    "target='status'\n",
    "features=['MDVP:Fo(Hz)', 'MDVP:Fhi(Hz)', 'MDVP:Flo(Hz)', 'MDVP:Jitter(%)',\n",
    "       'MDVP:Jitter(Abs)', 'MDVP:RAP', 'MDVP:PPQ', 'Jitter:DDP',\n",
    "       'MDVP:Shimmer', 'MDVP:Shimmer(dB)', 'Shimmer:APQ3', 'Shimmer:APQ5',\n",
    "       'MDVP:APQ', 'Shimmer:DDA', 'NHR', 'HNR', 'RPDE', 'DFA',\n",
    "       'spread1', 'spread2', 'D2', 'PPE']\n",
    "X=df[features]\n",
    "y=df[target]"
   ]
  },
  {
   "cell_type": "code",
   "execution_count": 11,
   "id": "e3388343",
   "metadata": {},
   "outputs": [
    {
     "data": {
      "text/plain": [
       "((192, 22), (192,))"
      ]
     },
     "execution_count": 11,
     "metadata": {},
     "output_type": "execute_result"
    }
   ],
   "source": [
    "X.shape,y.shape"
   ]
  },
  {
   "cell_type": "code",
   "execution_count": 12,
   "id": "424a8b26",
   "metadata": {},
   "outputs": [
    {
     "name": "stdout",
     "output_type": "stream",
     "text": [
      "(153, 22)\n",
      "(153,)\n",
      "(39, 22)\n",
      "(39,)\n"
     ]
    }
   ],
   "source": [
    "X_train, X_test, y_train, y_test=train_test_split(X,y,test_size=0.2,random_state=0)\n",
    "print(X_train.shape)\n",
    "print(y_train.shape)\n",
    "print(X_test.shape)\n",
    "print(y_test.shape)"
   ]
  },
  {
   "cell_type": "code",
   "execution_count": 13,
   "id": "2b4a591d",
   "metadata": {},
   "outputs": [
    {
     "data": {
      "text/plain": [
       "0.7712418300653595"
      ]
     },
     "execution_count": 13,
     "metadata": {},
     "output_type": "execute_result"
    }
   ],
   "source": [
    "#Baseline accyracy\n",
    "y_base_accuracy=y_train.value_counts(normalize=True).max()\n",
    "y_base_accuracy"
   ]
  },
  {
   "cell_type": "code",
   "execution_count": 14,
   "id": "9e52ad85",
   "metadata": {},
   "outputs": [],
   "source": [
    "scale=StandardScaler()\n",
    "X_train=pd.DataFrame(scale.fit_transform(X_train),columns=X.columns)\n",
    "X_test=pd.DataFrame(scale.transform(X_test),columns=X.columns)"
   ]
  },
  {
   "cell_type": "code",
   "execution_count": 15,
   "id": "c02341a8",
   "metadata": {},
   "outputs": [
    {
     "name": "stdout",
     "output_type": "stream",
     "text": [
      "[ True  True False  True  True  True False  True False  True False  True\n",
      "  True False False  True  True False  True  True  True  True]\n",
      "[1 1 7 1 1 1 5 1 3 1 4 1 1 2 8 1 1 6 1 1 1 1]\n"
     ]
    }
   ],
   "source": [
    "lm=LogisticRegression()\n",
    "rfe=RFE(lm,n_features_to_select=15)\n",
    "rfe.fit(X_train,y_train)\n",
    "print(rfe.support_)\n",
    "print(rfe.ranking_)"
   ]
  },
  {
   "cell_type": "code",
   "execution_count": 16,
   "id": "51960cae",
   "metadata": {},
   "outputs": [],
   "source": [
    "col=X_train.columns[rfe.support_]\n",
    "X_train=X_train[col]\n",
    "X_test=X_test[col]"
   ]
  },
  {
   "cell_type": "code",
   "execution_count": 17,
   "id": "05ca3e91",
   "metadata": {},
   "outputs": [
    {
     "data": {
      "text/plain": [
       "LogisticRegression()"
      ]
     },
     "execution_count": 17,
     "metadata": {},
     "output_type": "execute_result"
    }
   ],
   "source": [
    "lm.fit(X_train,y_train)\n"
   ]
  },
  {
   "cell_type": "code",
   "execution_count": 18,
   "id": "04eec370",
   "metadata": {},
   "outputs": [
    {
     "name": "stdout",
     "output_type": "stream",
     "text": [
      "0.8823529411764706\n",
      "0.8717948717948718\n"
     ]
    }
   ],
   "source": [
    "print(lm.score(X_train,y_train))\n",
    "print(lm.score(X_test,y_test))\n",
    "\n",
    "#So, our accuracy improved by roughly 10%"
   ]
  },
  {
   "cell_type": "code",
   "execution_count": 19,
   "id": "5908a4e4",
   "metadata": {},
   "outputs": [
    {
     "data": {
      "text/plain": [
       "<AxesSubplot:>"
      ]
     },
     "execution_count": 19,
     "metadata": {},
     "output_type": "execute_result"
    },
    {
     "data": {
      "image/png": "[encoded data removed]",
      "text/plain": [
       "<Figure size 432x288 with 2 Axes>"
      ]
     },
     "metadata": {
      "needs_background": "light"
     },
     "output_type": "display_data"
    }
   ],
   "source": [
    "sns.heatmap(X_train.corr())"
   ]
  },
  {
   "cell_type": "markdown",
   "id": "7c5ed340",
   "metadata": {},
   "source": [
    "In above model, we let some of the data go to waste when we used the RFE function to choose columns which provide best predictions. Furthermore, there are cases of high correlation among the independent variables in 'X_train'.\n",
    "So, we move on to decision tree model."
   ]
  },
  {
   "cell_type": "code",
   "execution_count": 20,
   "id": "3d3c69b3",
   "metadata": {},
   "outputs": [
    {
     "name": "stdout",
     "output_type": "stream",
     "text": [
      "(153, 22)\n",
      "(153,)\n",
      "(39, 22)\n",
      "(39,)\n"
     ]
    }
   ],
   "source": [
    "#model 2- Decision tree\n",
    "X_train, X_test, y_train, y_test=train_test_split(X,y,test_size=0.2,random_state=0)\n",
    "print(X_train.shape)\n",
    "print(y_train.shape)\n",
    "print(X_test.shape)\n",
    "print(y_test.shape)"
   ]
  },
  {
   "cell_type": "code",
   "execution_count": 21,
   "id": "f8cdb7a5",
   "metadata": {},
   "outputs": [
    {
     "data": {
      "text/plain": [
       "Pipeline(steps=[('standardscaler', StandardScaler()),\n",
       "                ('decisiontreeclassifier',\n",
       "                 DecisionTreeClassifier(random_state=42))])"
      ]
     },
     "execution_count": 21,
     "metadata": {},
     "output_type": "execute_result"
    }
   ],
   "source": [
    "dt = make_pipeline(\n",
    "    StandardScaler(),\n",
    "    DecisionTreeClassifier(random_state=42)\n",
    ")\n",
    "dt.fit(X_train,y_train)"
   ]
  },
  {
   "cell_type": "code",
   "execution_count": 22,
   "id": "16188d96",
   "metadata": {
    "scrolled": true
   },
   "outputs": [
    {
     "name": "stdout",
     "output_type": "stream",
     "text": [
      "1.0\n",
      "0.8974358974358975\n"
     ]
    }
   ],
   "source": [
    "#accuracy scores\n",
    "print(dt.score(X_train,y_train))\n",
    "print(dt.score(X_test,y_test))"
   ]
  },
  {
   "cell_type": "code",
   "execution_count": 23,
   "id": "dc09038a",
   "metadata": {},
   "outputs": [
    {
     "name": "stdout",
     "output_type": "stream",
     "text": [
      "(153, 22)\n",
      "(153,)\n",
      "(39, 22)\n",
      "(39,)\n"
     ]
    }
   ],
   "source": [
    "#model3 - Random Forest\n",
    "X_train, X_test, y_train, y_test=train_test_split(X,y,test_size=0.2,random_state=0)\n",
    "print(X_train.shape)\n",
    "print(y_train.shape)\n",
    "print(X_test.shape)\n",
    "print(y_test.shape)"
   ]
  },
  {
   "cell_type": "code",
   "execution_count": 24,
   "id": "fc903f1b",
   "metadata": {},
   "outputs": [
    {
     "name": "stdout",
     "output_type": "stream",
     "text": [
      "Pipeline(steps=[('standardscaler', StandardScaler()),\n",
      "                ('randomforestclassifier',\n",
      "                 RandomForestClassifier(random_state=42))])\n"
     ]
    }
   ],
   "source": [
    "clf = make_pipeline(\n",
    "    StandardScaler(),\n",
    "    RandomForestClassifier(random_state=42)\n",
    ")\n",
    "print(clf)"
   ]
  },
  {
   "cell_type": "code",
   "execution_count": 25,
   "id": "24956c98",
   "metadata": {},
   "outputs": [
    {
     "name": "stdout",
     "output_type": "stream",
     "text": [
      "[0.87096774 0.87096774 0.93548387 0.96666667 0.9       ]\n"
     ]
    }
   ],
   "source": [
    "cv_acc_scores = cross_val_score(clf,X_train,y_train,cv=5,n_jobs=-1)\n",
    "print(cv_acc_scores)"
   ]
  },
  {
   "cell_type": "code",
   "execution_count": 26,
   "id": "d57bf9b3",
   "metadata": {},
   "outputs": [
    {
     "data": {
      "text/plain": [
       "{'randomforestclassifier__n_estimators': range(25, 100, 10),\n",
       " 'randomforestclassifier__max_depth': range(10, 21)}"
      ]
     },
     "execution_count": 26,
     "metadata": {},
     "output_type": "execute_result"
    }
   ],
   "source": [
    "params = {\n",
    "    'randomforestclassifier__n_estimators':range(25,100,10),\n",
    "    'randomforestclassifier__max_depth':range(10,21,1)\n",
    "}\n",
    "params"
   ]
  },
  {
   "cell_type": "code",
   "execution_count": 27,
   "id": "f4ab2cfb",
   "metadata": {},
   "outputs": [
    {
     "data": {
      "text/plain": [
       "GridSearchCV(cv=5,\n",
       "             estimator=Pipeline(steps=[('standardscaler', StandardScaler()),\n",
       "                                       ('randomforestclassifier',\n",
       "                                        RandomForestClassifier(random_state=42))]),\n",
       "             n_jobs=-1,\n",
       "             param_grid={'randomforestclassifier__max_depth': range(10, 21),\n",
       "                         'randomforestclassifier__n_estimators': range(25, 100, 10)},\n",
       "             verbose=1)"
      ]
     },
     "execution_count": 27,
     "metadata": {},
     "output_type": "execute_result"
    }
   ],
   "source": [
    "model = GridSearchCV(\n",
    "    clf,\n",
    "    param_grid=params,\n",
    "    cv=5,\n",
    "    n_jobs=-1,\n",
    "    verbose=1\n",
    ")\n",
    "model"
   ]
  },
  {
   "cell_type": "code",
   "execution_count": 28,
   "id": "d90dfd67",
   "metadata": {},
   "outputs": [
    {
     "name": "stdout",
     "output_type": "stream",
     "text": [
      "Fitting 5 folds for each of 88 candidates, totalling 440 fits\n"
     ]
    },
    {
     "data": {
      "text/plain": [
       "GridSearchCV(cv=5,\n",
       "             estimator=Pipeline(steps=[('standardscaler', StandardScaler()),\n",
       "                                       ('randomforestclassifier',\n",
       "                                        RandomForestClassifier(random_state=42))]),\n",
       "             n_jobs=-1,\n",
       "             param_grid={'randomforestclassifier__max_depth': range(10, 21),\n",
       "                         'randomforestclassifier__n_estimators': range(25, 100, 10)},\n",
       "             verbose=1)"
      ]
     },
     "execution_count": 28,
     "metadata": {},
     "output_type": "execute_result"
    }
   ],
   "source": [
    "model.fit(X_train, y_train)"
   ]
  },
  {
   "cell_type": "code",
   "execution_count": 29,
   "id": "db9a7a7a",
   "metadata": {},
   "outputs": [
    {
     "name": "stdout",
     "output_type": "stream",
     "text": [
      "training accuracy =1.0\n",
      "test accuracy =0.8717948717948718\n"
     ]
    }
   ],
   "source": [
    "print('training accuracy ={}'.format(model.score(X_train,y_train)))\n",
    "print('test accuracy ={}'.format(model.score(X_test,y_test)))\n"
   ]
  },
  {
   "cell_type": "code",
   "execution_count": 30,
   "id": "16d79971",
   "metadata": {},
   "outputs": [
    {
     "name": "stdout",
     "output_type": "stream",
     "text": [
      "(153, 22)\n",
      "(153,)\n",
      "(39, 22)\n",
      "(39,)\n",
      "Pipeline(steps=[('standardscaler', StandardScaler()),\n",
      "                ('gradientboostingclassifier',\n",
      "                 GradientBoostingClassifier(random_state=42))])\n"
     ]
    }
   ],
   "source": [
    "#Model 4 - Gradiant boosting classifier\n",
    "X_train, X_test, y_train, y_test=train_test_split(X,y,test_size=0.2,random_state=0)\n",
    "print(X_train.shape)\n",
    "print(y_train.shape)\n",
    "print(X_test.shape)\n",
    "print(y_test.shape)\n",
    "\n",
    "clf = make_pipeline(\n",
    "    StandardScaler(),\n",
    "    GradientBoostingClassifier(random_state=42)\n",
    ")\n",
    "print(clf)"
   ]
  },
  {
   "cell_type": "code",
   "execution_count": 31,
   "id": "b75e1953",
   "metadata": {},
   "outputs": [
    {
     "data": {
      "text/plain": [
       "{'gradientboostingclassifier__n_estimators': range(25, 100, 10),\n",
       " 'gradientboostingclassifier__max_depth': range(10, 21)}"
      ]
     },
     "execution_count": 31,
     "metadata": {},
     "output_type": "execute_result"
    }
   ],
   "source": [
    "params = {\n",
    "    'gradientboostingclassifier__n_estimators':range(25,100,10),\n",
    "    'gradientboostingclassifier__max_depth':range(10,21,1)\n",
    "}\n",
    "params"
   ]
  },
  {
   "cell_type": "code",
   "execution_count": 32,
   "id": "0c2c7d5b",
   "metadata": {},
   "outputs": [
    {
     "data": {
      "text/plain": [
       "GridSearchCV(cv=5,\n",
       "             estimator=Pipeline(steps=[('standardscaler', StandardScaler()),\n",
       "                                       ('gradientboostingclassifier',\n",
       "                                        GradientBoostingClassifier(random_state=42))]),\n",
       "             n_jobs=-1,\n",
       "             param_grid={'gradientboostingclassifier__max_depth': range(10, 21),\n",
       "                         'gradientboostingclassifier__n_estimators': range(25, 100, 10)},\n",
       "             verbose=1)"
      ]
     },
     "execution_count": 32,
     "metadata": {},
     "output_type": "execute_result"
    }
   ],
   "source": [
    "model = GridSearchCV(\n",
    "    clf,\n",
    "    param_grid=params,\n",
    "    cv=5,\n",
    "    n_jobs=-1,\n",
    "    verbose=1\n",
    ")\n",
    "model"
   ]
  },
  {
   "cell_type": "code",
   "execution_count": 33,
   "id": "c85dce88",
   "metadata": {},
   "outputs": [
    {
     "name": "stdout",
     "output_type": "stream",
     "text": [
      "Fitting 5 folds for each of 88 candidates, totalling 440 fits\n"
     ]
    },
    {
     "data": {
      "text/plain": [
       "GridSearchCV(cv=5,\n",
       "             estimator=Pipeline(steps=[('standardscaler', StandardScaler()),\n",
       "                                       ('gradientboostingclassifier',\n",
       "                                        GradientBoostingClassifier(random_state=42))]),\n",
       "             n_jobs=-1,\n",
       "             param_grid={'gradientboostingclassifier__max_depth': range(10, 21),\n",
       "                         'gradientboostingclassifier__n_estimators': range(25, 100, 10)},\n",
       "             verbose=1)"
      ]
     },
     "execution_count": 33,
     "metadata": {},
     "output_type": "execute_result"
    }
   ],
   "source": [
    "model.fit(X_train, y_train)"
   ]
  },
  {
   "cell_type": "code",
   "execution_count": 34,
   "id": "c720d42b",
   "metadata": {},
   "outputs": [
    {
     "name": "stdout",
     "output_type": "stream",
     "text": [
      "training accuracy =1.0\n",
      "test accuracy =0.8974358974358975\n"
     ]
    }
   ],
   "source": [
    "print('training accuracy ={}'.format(model.score(X_train,y_train)))\n",
    "print('test accuracy ={}'.format(model.score(X_test,y_test)))"
   ]
  },
  {
   "cell_type": "code",
   "execution_count": 35,
   "id": "b71a6bbd",
   "metadata": {},
   "outputs": [
    {
     "name": "stdout",
     "output_type": "stream",
     "text": [
      "(153, 22)\n",
      "(153,)\n",
      "(39, 22)\n",
      "(39,)\n",
      "Pipeline(steps=[('standardscaler', StandardScaler()),\n",
      "                ('adaboostclassifier', AdaBoostClassifier(random_state=42))])\n"
     ]
    }
   ],
   "source": [
    "#Model 4 - Adaboost classifier\n",
    "X_train, X_test, y_train, y_test=train_test_split(X,y,test_size=0.2,random_state=0)\n",
    "print(X_train.shape)\n",
    "print(y_train.shape)\n",
    "print(X_test.shape)\n",
    "print(y_test.shape)\n",
    "\n",
    "clf = make_pipeline(\n",
    "    StandardScaler(),\n",
    "    AdaBoostClassifier(random_state=42)\n",
    ")\n",
    "print(clf)"
   ]
  },
  {
   "cell_type": "code",
   "execution_count": 36,
   "id": "c58896c6",
   "metadata": {},
   "outputs": [
    {
     "data": {
      "text/plain": [
       "{'adaboostclassifier__n_estimators': range(25, 100, 10)}"
      ]
     },
     "execution_count": 36,
     "metadata": {},
     "output_type": "execute_result"
    }
   ],
   "source": [
    "params = {\n",
    "    'adaboostclassifier__n_estimators':range(25,100,10)\n",
    "}\n",
    "params"
   ]
  },
  {
   "cell_type": "code",
   "execution_count": 37,
   "id": "d7796622",
   "metadata": {},
   "outputs": [
    {
     "data": {
      "text/plain": [
       "GridSearchCV(cv=5,\n",
       "             estimator=Pipeline(steps=[('standardscaler', StandardScaler()),\n",
       "                                       ('adaboostclassifier',\n",
       "                                        AdaBoostClassifier(random_state=42))]),\n",
       "             n_jobs=-1,\n",
       "             param_grid={'adaboostclassifier__n_estimators': range(25, 100, 10)},\n",
       "             verbose=1)"
      ]
     },
     "execution_count": 37,
     "metadata": {},
     "output_type": "execute_result"
    }
   ],
   "source": [
    "model = GridSearchCV(\n",
    "    clf,\n",
    "    param_grid=params,\n",
    "    cv=5,\n",
    "    n_jobs=-1,\n",
    "    verbose=1\n",
    ")\n",
    "model"
   ]
  },
  {
   "cell_type": "code",
   "execution_count": 38,
   "id": "7382235b",
   "metadata": {},
   "outputs": [
    {
     "name": "stdout",
     "output_type": "stream",
     "text": [
      "Fitting 5 folds for each of 8 candidates, totalling 40 fits\n"
     ]
    },
    {
     "data": {
      "text/plain": [
       "GridSearchCV(cv=5,\n",
       "             estimator=Pipeline(steps=[('standardscaler', StandardScaler()),\n",
       "                                       ('adaboostclassifier',\n",
       "                                        AdaBoostClassifier(random_state=42))]),\n",
       "             n_jobs=-1,\n",
       "             param_grid={'adaboostclassifier__n_estimators': range(25, 100, 10)},\n",
       "             verbose=1)"
      ]
     },
     "execution_count": 38,
     "metadata": {},
     "output_type": "execute_result"
    }
   ],
   "source": [
    "model.fit(X_train, y_train)"
   ]
  },
  {
   "cell_type": "code",
   "execution_count": 39,
   "id": "43ab4548",
   "metadata": {},
   "outputs": [
    {
     "name": "stdout",
     "output_type": "stream",
     "text": [
      "training accuracy =1.0\n",
      "test accuracy =0.7948717948717948\n"
     ]
    }
   ],
   "source": [
    "print('training accuracy ={}'.format(model.score(X_train,y_train)))\n",
    "print('test accuracy ={}'.format(model.score(X_test,y_test)))"
   ]
  },
  {
   "cell_type": "markdown",
   "id": "696f930a",
   "metadata": {},
   "source": [
    "The better model in all of the above cases is the Decision tree Classifier as it can bypass the issue of multicollinearity and is much less complex compared to other models, hance, faster. The worst is Adaboost classifier."
   ]
  },
  {
   "cell_type": "code",
   "execution_count": 40,
   "id": "5c3f525e",
   "metadata": {},
   "outputs": [
    {
     "name": "stdout",
     "output_type": "stream",
     "text": [
      "(153, 22)\n",
      "(153,)\n",
      "(39, 22)\n",
      "(39,)\n"
     ]
    }
   ],
   "source": [
    "#Best model\n",
    "#model 2- Decision tree\n",
    "X_train, X_test, y_train, y_test=train_test_split(X,y,test_size=0.2,random_state=0)\n",
    "print(X_train.shape)\n",
    "print(y_train.shape)\n",
    "print(X_test.shape)\n",
    "print(y_test.shape)"
   ]
  },
  {
   "cell_type": "code",
   "execution_count": 41,
   "id": "2dda63c4",
   "metadata": {},
   "outputs": [
    {
     "data": {
      "text/plain": [
       "Pipeline(steps=[('standardscaler', StandardScaler()),\n",
       "                ('decisiontreeclassifier',\n",
       "                 DecisionTreeClassifier(random_state=42))])"
      ]
     },
     "execution_count": 41,
     "metadata": {},
     "output_type": "execute_result"
    }
   ],
   "source": [
    "dt = make_pipeline(\n",
    "    StandardScaler(),\n",
    "    DecisionTreeClassifier(random_state=42)\n",
    ")\n",
    "dt.fit(X_train,y_train)"
   ]
  },
  {
   "cell_type": "code",
   "execution_count": 42,
   "id": "670a4e59",
   "metadata": {},
   "outputs": [
    {
     "name": "stdout",
     "output_type": "stream",
     "text": [
      "1.0\n",
      "0.8974358974358975\n"
     ]
    }
   ],
   "source": [
    "#accuracy scores\n",
    "print(dt.score(X_train,y_train))\n",
    "print(dt.score(X_test,y_test))"
   ]
  },
  {
   "cell_type": "code",
   "execution_count": 43,
   "id": "e94a429c",
   "metadata": {},
   "outputs": [],
   "source": [
    "y_pred2=dt.predict(X_test)\n"
   ]
  },
  {
   "cell_type": "code",
   "execution_count": 44,
   "id": "d222e120",
   "metadata": {},
   "outputs": [
    {
     "name": "stdout",
     "output_type": "stream",
     "text": [
      "training accuracy = 1.0\n",
      "test accuracy = 0.9\n",
      "test precision = 0.93\n",
      "test recall = 0.93\n",
      "test error = 0.1\n"
     ]
    }
   ],
   "source": [
    "cnf=confusion_matrix(y_test,y_pred2)\n",
    "print('training accuracy = {}'.format(round(accuracy_score(y_train,dt.predict(X_train)),2)))\n",
    "print('test accuracy = {}'.format(round((cnf[0][0]+cnf[1][1])/(cnf[0][0]+cnf[0][1]+cnf[1][0]+cnf[1][1]),2)))\n",
    "print('test precision = {}'.format(round((cnf[1][1])/(cnf[0][1]+cnf[1][1]),2)))\n",
    "print('test recall = {}'.format(round((cnf[1][1])/(cnf[1][0]+cnf[1][1]),2)))\n",
    "print('test error = {}'.format(round((cnf[0][1]+cnf[1][0])/(cnf[0][0]+cnf[0][1]+cnf[1][0]+cnf[1][1]),2)))\n",
    "\n"
   ]
  },
  {
   "cell_type": "code",
   "execution_count": 45,
   "id": "30176609",
   "metadata": {},
   "outputs": [
    {
     "name": "stdout",
     "output_type": "stream",
     "text": [
      "              precision    recall  f1-score   support\n",
      "\n",
      "           0       0.82      0.82      0.82        11\n",
      "           1       0.93      0.93      0.93        28\n",
      "\n",
      "    accuracy                           0.90        39\n",
      "   macro avg       0.87      0.87      0.87        39\n",
      "weighted avg       0.90      0.90      0.90        39\n",
      "\n"
     ]
    }
   ],
   "source": [
    "print(classification_report(y_test,y_pred2))"
   ]
  },
  {
   "cell_type": "code",
   "execution_count": 46,
   "id": "25ed9a39",
   "metadata": {},
   "outputs": [
    {
     "data": {
      "text/plain": [
       "<sklearn.metrics._plot.confusion_matrix.ConfusionMatrixDisplay at 0x2d7d0ddd8e0>"
      ]
     },
     "execution_count": 46,
     "metadata": {},
     "output_type": "execute_result"
    },
    {
     "data": {
      "image/png": "[encoded data removed]",
      "text/plain": [
       "<Figure size 432x288 with 2 Axes>"
      ]
     },
     "metadata": {
      "needs_background": "light"
     },
     "output_type": "display_data"
    }
   ],
   "source": [
    "ConfusionMatrixDisplay.from_predictions(y_test,y_pred2)"
   ]
  },
  {
   "cell_type": "code",
   "execution_count": 47,
   "id": "c58f6f01",
   "metadata": {},
   "outputs": [
    {
     "data": {
      "image/png": "[encoded data removed]",
      "text/plain": [
       "<Figure size 432x288 with 1 Axes>"
      ]
     },
     "metadata": {
      "needs_background": "light"
     },
     "output_type": "display_data"
    }
   ],
   "source": [
    "#Feature Importance\n",
    "# Get importances\n",
    "importances = dt.named_steps['decisiontreeclassifier'].feature_importances_\n",
    "\n",
    "# Put importances into a Series\n",
    "feat_imp = pd.Series(importances,index=X_train.columns).sort_values()\n",
    "# plot\n",
    "feat_imp.tail(15).plot(kind='barh')\n",
    "plt.xlabel(\"Gini Importance\")\n",
    "plt.ylabel(\"Feature\")\n",
    "plt.title(\"Decision tree model Feature Importance\");"
   ]
  },
  {
   "cell_type": "code",
   "execution_count": 48,
   "id": "db54498f",
   "metadata": {},
   "outputs": [
    {
     "data": {
      "text/plain": [
       "0.9821941765776485"
      ]
     },
     "execution_count": 48,
     "metadata": {},
     "output_type": "execute_result"
    }
   ],
   "source": [
    "feat_imp.tail(9).sum() # shows that more than 98 % if data is segregated by above top 8 variables"
   ]
  },
  {
   "cell_type": "code",
   "execution_count": null,
   "id": "865fca45",
   "metadata": {},
   "outputs": [],
   "source": []
  }
 ],
 "metadata": {
  "kernelspec": {
   "display_name": "Python 3 (ipykernel)",
   "language": "python",
   "name": "python3"
  },
  "language_info": {
   "codemirror_mode": {
    "name": "ipython",
    "version": 3
   },
   "file_extension": ".py",
   "mimetype": "text/x-python",
   "name": "python",
   "nbconvert_exporter": "python",
   "pygments_lexer": "ipython3",
   "version": "3.9.2"
  }
 },
 "nbformat": 4,
 "nbformat_minor": 5
}
